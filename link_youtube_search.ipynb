{
  "nbformat": 4,
  "nbformat_minor": 0,
  "metadata": {
    "colab": {
      "provenance": [],
      "mount_file_id": "1xDWXKK0198sTsQrG1hgDTx6DgjKj08iI",
      "authorship_tag": "ABX9TyPMwUUT8EKu3Gw5aGgK0ZGH",
      "include_colab_link": true
    },
    "kernelspec": {
      "name": "python3",
      "display_name": "Python 3"
    },
    "language_info": {
      "name": "python"
    },
    "accelerator": "GPU",
    "gpuClass": "standard"
  },
  "cells": [
    {
      "cell_type": "markdown",
      "metadata": {
        "id": "view-in-github",
        "colab_type": "text"
      },
      "source": [
        "<a href=\"https://colab.research.google.com/github/votrannhatquang/AI-s-ng-th-7/blob/main/link_youtube_search.ipynb\" target=\"_parent\"><img src=\"https://colab.research.google.com/assets/colab-badge.svg\" alt=\"Open In Colab\"/></a>"
      ]
    },
    {
      "cell_type": "code",
      "execution_count": 2,
      "metadata": {
        "colab": {
          "base_uri": "https://localhost:8080/"
        },
        "id": "m3qXUpzE5PHa",
        "outputId": "4af01dc5-0655-47af-d230-569016f5abb3"
      },
      "outputs": [
        {
          "output_type": "stream",
          "name": "stdout",
          "text": [
            "Looking in indexes: https://pypi.org/simple, https://us-python.pkg.dev/colab-wheels/public/simple/\n",
            "Collecting youtube_search\n",
            "  Downloading youtube_search-2.1.2-py3-none-any.whl (3.4 kB)\n",
            "Requirement already satisfied: requests in /usr/local/lib/python3.9/dist-packages (from youtube_search) (2.27.1)\n",
            "Requirement already satisfied: charset-normalizer~=2.0.0 in /usr/local/lib/python3.9/dist-packages (from requests->youtube_search) (2.0.12)\n",
            "Requirement already satisfied: idna<4,>=2.5 in /usr/local/lib/python3.9/dist-packages (from requests->youtube_search) (3.4)\n",
            "Requirement already satisfied: certifi>=2017.4.17 in /usr/local/lib/python3.9/dist-packages (from requests->youtube_search) (2022.12.7)\n",
            "Requirement already satisfied: urllib3<1.27,>=1.21.1 in /usr/local/lib/python3.9/dist-packages (from requests->youtube_search) (1.26.15)\n",
            "Installing collected packages: youtube_search\n",
            "Successfully installed youtube_search-2.1.2\n"
          ]
        }
      ],
      "source": [
        "pip install youtube_search"
      ]
    },
    {
      "cell_type": "code",
      "source": [
        "from youtube_search import YoutubeSearch\n",
        "mysong=input('Nhap ten bai hat')\n",
        "result=YoutubeSearch(mysong,max_results=10).to_dict()\n",
        "print(result)"
      ],
      "metadata": {
        "colab": {
          "base_uri": "https://localhost:8080/"
        },
        "id": "783SGkaW5XQH",
        "outputId": "45c0f3e5-85cb-47f1-e70d-cfe0e74661ea"
      },
      "execution_count": 3,
      "outputs": [
        {
          "output_type": "stream",
          "name": "stdout",
          "text": [
            "Nhap ten bai hatChim Sau\n",
            "[{'id': 'Yw9Ra2UiVLw', 'thumbnails': ['https://i.ytimg.com/vi/Yw9Ra2UiVLw/hq720.jpg?sqp=-oaymwE9COgCEMoBSFryq4qpAy8IARUAAAAAGAElAADIQj0AgKJDeAHwAQH4Af4JgALQBYoCDAgAEAEYHCAuKH8wDw==&rs=AOn4CLCMhJ-3quZHsoKR40MY6G3Y_6DTmQ', 'https://i.ytimg.com/vi/Yw9Ra2UiVLw/hq720.jpg?sqp=-oaymwExCNAFEJQDSFryq4qpAyMIARUAAIhCGAHwAQH4Af4JgALQBYoCDAgAEAEYHCAuKH8wDw==&rs=AOn4CLBrBlzFhGOzKSuS4-YdGyP-BtguZg'], 'title': 'Chìm Sâu - RPT MCK (feat. Trung Trần) | Official Lyrics Video', 'long_desc': None, 'channel': 'MCK // Nger', 'duration': '2:39', 'views': '53.882.669 weergaven', 'publish_time': '1 jaar geleden', 'url_suffix': '/watch?v=Yw9Ra2UiVLw&pp=ygUIQ2hpbSBTYXU%3D'}, {'id': 'cgCA-jP5QSY', 'thumbnails': ['https://i.ytimg.com/vi/cgCA-jP5QSY/hq720.jpg?sqp=-oaymwE9COgCEMoBSFryq4qpAy8IARUAAAAAGAElAADIQj0AgKJDeAHwAQH4Af4JgALQBYoCDAgAEAEYNiBcKHIwDw==&rs=AOn4CLDgzNzRXxAzohfJQTXltJ4RbIxm3Q', 'https://i.ytimg.com/vi/cgCA-jP5QSY/hq720.jpg?sqp=-oaymwExCNAFEJQDSFryq4qpAyMIARUAAIhCGAHwAQH4Af4JgALQBYoCDAgAEAEYNiBcKHIwDw==&rs=AOn4CLCjqLnixRaccelXitT7LGENBHEPSw'], 'title': '02. Chìm Sâu - RPT MCK ( ft. Trung Trần ) | \" 99% \" the album', 'long_desc': None, 'channel': 'MCK // Nger', 'duration': '2:37', 'views': '1.636.433 weergaven', 'publish_time': '1 maand geleden', 'url_suffix': '/watch?v=cgCA-jP5QSY&pp=ygUIQ2hpbSBTYXU%3D'}, {'id': 'sWapypQ7aGE', 'thumbnails': ['https://i.ytimg.com/vi/sWapypQ7aGE/hq720.jpg?sqp=-oaymwE9COgCEMoBSFryq4qpAy8IARUAAAAAGAElAADIQj0AgKJDeAHwAQH4Ac4FgALQBYoCDAgAEAEYfyATKDYwDw==&rs=AOn4CLAMUHJWOCO-CSjuBheM0D8jCblspg', 'https://i.ytimg.com/vi/sWapypQ7aGE/hq720.jpg?sqp=-oaymwExCNAFEJQDSFryq4qpAyMIARUAAIhCGAHwAQH4Ac4FgALQBYoCDAgAEAEYfyATKDYwDw==&rs=AOn4CLAG6ztTeFCSOzHWkoCRA-9FST-sKQ'], 'title': 'REPLAY 1 HOUR || CHÌM SÂU - MCK ft. Trung Trần', 'long_desc': None, 'channel': '_ R E P L A Y 1 H O U R _', 'duration': '59:49', 'views': '53.791 weergaven', 'publish_time': '1 jaar geleden', 'url_suffix': '/watch?v=sWapypQ7aGE&pp=ygUIQ2hpbSBTYXU%3D'}, {'id': 'KFz_v5zDKuw', 'thumbnails': ['https://i.ytimg.com/vi/KFz_v5zDKuw/hq720.jpg?sqp=-oaymwEjCOgCEMoBSFryq4qpAxUIARUAAAAAGAElAADIQj0AgKJDeAE=&rs=AOn4CLDVayFCvc15y8aHk2Aq8g_HZmsrIg', 'https://i.ytimg.com/vi/KFz_v5zDKuw/hq720.jpg?sqp=-oaymwEXCNAFEJQDSFryq4qpAwkIARUAAIhCGAE=&rs=AOn4CLATQ---xhfBUvHqYWshVN3XAjroiw'], 'title': 'Sony Tran - CHIM SAU feat. Hoang Ton & Blacka | OFFICIAL MUSIC VIDEO', 'long_desc': None, 'channel': 'Sony Tran Official', 'duration': '3:31', 'views': '177.519 weergaven', 'publish_time': '8 maanden geleden', 'url_suffix': '/watch?v=KFz_v5zDKuw&pp=ygUIQ2hpbSBTYXU%3D'}, {'id': 'O1XmRX2AhwQ', 'thumbnails': ['https://i.ytimg.com/vi/O1XmRX2AhwQ/hqdefault.jpg?sqp=-oaymwEjCOADEI4CSFryq4qpAxUIARUAAAAAGAElAADIQj0AgKJDeAE=&rs=AOn4CLCehOq24fWq6-UeISfojwo79iw4jw'], 'title': 'Tiếng chim sâu đầu đỏ chuẩn 2018', 'long_desc': None, 'channel': 'Miền Tây Long An', 'duration': '29:24', 'views': '1.463.953 weergaven', 'publish_time': '4 jaar geleden', 'url_suffix': '/watch?v=O1XmRX2AhwQ&pp=ygUIQ2hpbSBTYXU%3D'}, {'id': '4eK6KCSPfA8', 'thumbnails': ['https://i.ytimg.com/vi/4eK6KCSPfA8/hqdefault.jpg?sqp=-oaymwEjCOADEI4CSFryq4qpAxUIARUAAAAAGAElAADIQj0AgKJDeAE=&rs=AOn4CLCfWjc8vp5w66xDnd5wzfQRifXiIA'], 'title': 'chim sâu đỏ mái ro', 'long_desc': None, 'channel': 'nhhung164', 'duration': '4:02', 'views': '2.065.526 weergaven', 'publish_time': '13 jaar geleden', 'url_suffix': '/watch?v=4eK6KCSPfA8&pp=ygUIQ2hpbSBTYXU%3D'}, {'id': 'NXKb55cHDGY', 'thumbnails': ['https://i.ytimg.com/vi/NXKb55cHDGY/hq720.jpg?sqp=-oaymwE9COgCEMoBSFryq4qpAy8IARUAAAAAGAElAADIQj0AgKJDeAHwAQH4Af4JgALQBYoCDAgAEAEYZSBdKEUwDw==&rs=AOn4CLDJDQg7SWG_McOjY9kFCiRZugdAPQ', 'https://i.ytimg.com/vi/NXKb55cHDGY/hq720.jpg?sqp=-oaymwExCNAFEJQDSFryq4qpAyMIARUAAIhCGAHwAQH4Af4JgALQBYoCDAgAEAEYZSBdKEUwDw==&rs=AOn4CLC81c88Gmzs9605ifREiEFGMai5kQ'], 'title': 'tiếng chim sâu đầu đỏ mồi chuẩn', 'long_desc': None, 'channel': 'Tân Hoa Lan', 'duration': '30:03', 'views': '79.823 weergaven', 'publish_time': '1 jaar geleden', 'url_suffix': '/watch?v=NXKb55cHDGY&pp=ygUIQ2hpbSBTYXU%3D'}, {'id': 'feNAIFHaAWk', 'thumbnails': ['https://i.ytimg.com/vi/feNAIFHaAWk/hq720.jpg?sqp=-oaymwE9COgCEMoBSFryq4qpAy8IARUAAAAAGAElAADIQj0AgKJDeAHwAQH4Af4JgALQBYoCDAgAEAEYZSBKKEkwDw==&rs=AOn4CLAev_JU-vNVshXm239fEmXKCeyx0Q', 'https://i.ytimg.com/vi/feNAIFHaAWk/hq720.jpg?sqp=-oaymwExCNAFEJQDSFryq4qpAyMIARUAAIhCGAHwAQH4Af4JgALQBYoCDAgAEAEYZSBKKEkwDw==&rs=AOn4CLA_qaFN3igVfn-uysHR8B5AUXRo9Q'], 'title': 'U GOT ME CHÌM SÂU (Remake) - Wypi', 'long_desc': None, 'channel': 'Wypi', 'duration': '3:47', 'views': '465.843 weergaven', 'publish_time': '1 jaar geleden', 'url_suffix': '/watch?v=feNAIFHaAWk&pp=ygUIQ2hpbSBTYXU%3D'}, {'id': '3pOu80b3d0w', 'thumbnails': ['https://i.ytimg.com/vi/3pOu80b3d0w/hq720.jpg?sqp=-oaymwEjCOgCEMoBSFryq4qpAxUIARUAAAAAGAElAADIQj0AgKJDeAE=&rs=AOn4CLCvKy6GfsAhif9PWv9f2BzykfmrHg', 'https://i.ytimg.com/vi/3pOu80b3d0w/hq720.jpg?sqp=-oaymwEXCNAFEJQDSFryq4qpAwkIARUAAIhCGAE=&rs=AOn4CLAwkAl4yWE0Mkg6TeW6FiwSgOPBmA'], 'title': 'Bắt Ổ Cá Trê Giả Cứu Đàn Cá Con - Tổng  Chim Trĩ Đẻ Bao Nhiêu Quả?.Long Đen', 'long_desc': None, 'channel': 'Long Đen', 'duration': '19:28', 'views': '33.206 weergaven', 'publish_time': '21 uur geleden', 'url_suffix': '/watch?v=3pOu80b3d0w&pp=ygUIQ2hpbSBTYXU%3D'}, {'id': 'AqD2anmyngk', 'thumbnails': ['https://i.ytimg.com/vi/AqD2anmyngk/hq720.jpg?sqp=-oaymwEjCOgCEMoBSFryq4qpAxUIARUAAAAAGAElAADIQj0AgKJDeAE=&rs=AOn4CLDCwKEPcNxGVnlEoQjqtYSYm517RQ', 'https://i.ytimg.com/vi/AqD2anmyngk/hq720.jpg?sqp=-oaymwEXCNAFEJQDSFryq4qpAwkIARUAAIhCGAE=&rs=AOn4CLBg58bkq9YOQkW0pjedMBH0RiOEOQ'], 'title': 'Ngã ngửa với những pha trộm chim “nhanh như chớp” khiến gia chủ trở tay không kịp | GCG', 'long_desc': None, 'channel': 'GÓC CẢNH GIÁC', 'duration': '9:39', 'views': '7.571 weergaven', 'publish_time': '3 uur geleden', 'url_suffix': '/watch?v=AqD2anmyngk&pp=ygUIQ2hpbSBTYXU%3D'}]\n"
          ]
        }
      ]
    },
    {
      "cell_type": "code",
      "source": [
        "from youtube_search import YoutubeSearch\n",
        "import webbrowser\n",
        "mysong=input(\"nhập tên bài hát \")\n",
        "result=YoutubeSearch(mysong,max_results=10).to_dict()\n",
        "print(result)\n",
        "print(result[0]['url_suffix'])\n",
        "url='http://www.youtube.com'+result[0]['url_suffix']\n",
        "print(url)\n",
        "webbrowser.open(url)\n",
        "print('bài hát của bạn đã được mở')\n"
      ],
      "metadata": {
        "colab": {
          "base_uri": "https://localhost:8080/"
        },
        "id": "UgZcqP9t7Fpv",
        "outputId": "9e855d75-42e5-47a7-a89d-500774ba6ae9"
      },
      "execution_count": 5,
      "outputs": [
        {
          "output_type": "stream",
          "name": "stdout",
          "text": [
            "nhập tên bài hát chim sau\n",
            "[{'id': 'Yw9Ra2UiVLw', 'thumbnails': ['https://i.ytimg.com/vi/Yw9Ra2UiVLw/hq720.jpg?sqp=-oaymwE9COgCEMoBSFryq4qpAy8IARUAAAAAGAElAADIQj0AgKJDeAHwAQH4Af4JgALQBYoCDAgAEAEYHCAuKH8wDw==&rs=AOn4CLCMhJ-3quZHsoKR40MY6G3Y_6DTmQ', 'https://i.ytimg.com/vi/Yw9Ra2UiVLw/hq720.jpg?sqp=-oaymwExCNAFEJQDSFryq4qpAyMIARUAAIhCGAHwAQH4Af4JgALQBYoCDAgAEAEYHCAuKH8wDw==&rs=AOn4CLBrBlzFhGOzKSuS4-YdGyP-BtguZg'], 'title': 'Chìm Sâu - RPT MCK (feat. Trung Trần) | Official Lyrics Video', 'long_desc': None, 'channel': 'MCK // Nger', 'duration': '2:39', 'views': '53.882.669 weergaven', 'publish_time': '1 jaar geleden', 'url_suffix': '/watch?v=Yw9Ra2UiVLw&pp=ygUIY2hpbSBzYXU%3D'}, {'id': 'cgCA-jP5QSY', 'thumbnails': ['https://i.ytimg.com/vi/cgCA-jP5QSY/hq720.jpg?sqp=-oaymwE9COgCEMoBSFryq4qpAy8IARUAAAAAGAElAADIQj0AgKJDeAHwAQH4Af4JgALQBYoCDAgAEAEYNiBcKHIwDw==&rs=AOn4CLDgzNzRXxAzohfJQTXltJ4RbIxm3Q', 'https://i.ytimg.com/vi/cgCA-jP5QSY/hq720.jpg?sqp=-oaymwExCNAFEJQDSFryq4qpAyMIARUAAIhCGAHwAQH4Af4JgALQBYoCDAgAEAEYNiBcKHIwDw==&rs=AOn4CLCjqLnixRaccelXitT7LGENBHEPSw'], 'title': '02. Chìm Sâu - RPT MCK ( ft. Trung Trần ) | \" 99% \" the album', 'long_desc': None, 'channel': 'MCK // Nger', 'duration': '2:37', 'views': '1.636.433 weergaven', 'publish_time': '1 maand geleden', 'url_suffix': '/watch?v=cgCA-jP5QSY&pp=ygUIY2hpbSBzYXU%3D'}, {'id': 'sWapypQ7aGE', 'thumbnails': ['https://i.ytimg.com/vi/sWapypQ7aGE/hq720.jpg?sqp=-oaymwE9COgCEMoBSFryq4qpAy8IARUAAAAAGAElAADIQj0AgKJDeAHwAQH4Ac4FgALQBYoCDAgAEAEYfyATKDYwDw==&rs=AOn4CLAMUHJWOCO-CSjuBheM0D8jCblspg', 'https://i.ytimg.com/vi/sWapypQ7aGE/hq720.jpg?sqp=-oaymwExCNAFEJQDSFryq4qpAyMIARUAAIhCGAHwAQH4Ac4FgALQBYoCDAgAEAEYfyATKDYwDw==&rs=AOn4CLAG6ztTeFCSOzHWkoCRA-9FST-sKQ'], 'title': 'REPLAY 1 HOUR || CHÌM SÂU - MCK ft. Trung Trần', 'long_desc': None, 'channel': '_ R E P L A Y 1 H O U R _', 'duration': '59:49', 'views': '53.792 weergaven', 'publish_time': '1 jaar geleden', 'url_suffix': '/watch?v=sWapypQ7aGE&pp=ygUIY2hpbSBzYXU%3D'}, {'id': 'O1XmRX2AhwQ', 'thumbnails': ['https://i.ytimg.com/vi/O1XmRX2AhwQ/hqdefault.jpg?sqp=-oaymwEjCOADEI4CSFryq4qpAxUIARUAAAAAGAElAADIQj0AgKJDeAE=&rs=AOn4CLCehOq24fWq6-UeISfojwo79iw4jw'], 'title': 'Tiếng chim sâu đầu đỏ chuẩn 2018', 'long_desc': None, 'channel': 'Miền Tây Long An', 'duration': '29:24', 'views': '1.463.953 weergaven', 'publish_time': '4 jaar geleden', 'url_suffix': '/watch?v=O1XmRX2AhwQ&pp=ygUIY2hpbSBzYXU%3D'}, {'id': '4eK6KCSPfA8', 'thumbnails': ['https://i.ytimg.com/vi/4eK6KCSPfA8/hqdefault.jpg?sqp=-oaymwEjCOADEI4CSFryq4qpAxUIARUAAAAAGAElAADIQj0AgKJDeAE=&rs=AOn4CLCfWjc8vp5w66xDnd5wzfQRifXiIA'], 'title': 'chim sâu đỏ mái ro', 'long_desc': None, 'channel': 'nhhung164', 'duration': '4:02', 'views': '2.065.526 weergaven', 'publish_time': '13 jaar geleden', 'url_suffix': '/watch?v=4eK6KCSPfA8&pp=ygUIY2hpbSBzYXU%3D'}, {'id': 'UVl6CO5BG5I', 'thumbnails': ['https://i.ytimg.com/vi/UVl6CO5BG5I/hqdefault.jpg?sqp=-oaymwEjCOADEI4CSFryq4qpAxUIARUAAAAAGAElAADIQj0AgKJDeAE=&rs=AOn4CLDp3keWQSrvBVLMSGM99GKMVUk-8g'], 'title': 'Cách nuôi chim sâu đầu đỏ con bao sống. T51', 'long_desc': None, 'channel': 'Triều Nguyễn tv8788', 'duration': '10:03', 'views': '13.677 weergaven', 'publish_time': '9 maanden geleden', 'url_suffix': '/watch?v=UVl6CO5BG5I&pp=ygUIY2hpbSBzYXU%3D'}, {'id': 'KFz_v5zDKuw', 'thumbnails': ['https://i.ytimg.com/vi/KFz_v5zDKuw/hq720.jpg?sqp=-oaymwEjCOgCEMoBSFryq4qpAxUIARUAAAAAGAElAADIQj0AgKJDeAE=&rs=AOn4CLDVayFCvc15y8aHk2Aq8g_HZmsrIg', 'https://i.ytimg.com/vi/KFz_v5zDKuw/hq720.jpg?sqp=-oaymwEXCNAFEJQDSFryq4qpAwkIARUAAIhCGAE=&rs=AOn4CLATQ---xhfBUvHqYWshVN3XAjroiw'], 'title': 'Sony Tran - CHIM SAU feat. Hoang Ton & Blacka | OFFICIAL MUSIC VIDEO', 'long_desc': None, 'channel': 'Sony Tran Official', 'duration': '3:31', 'views': '177.519 weergaven', 'publish_time': '8 maanden geleden', 'url_suffix': '/watch?v=KFz_v5zDKuw&pp=ygUIY2hpbSBzYXU%3D'}, {'id': 'feNAIFHaAWk', 'thumbnails': ['https://i.ytimg.com/vi/feNAIFHaAWk/hq720.jpg?sqp=-oaymwE9COgCEMoBSFryq4qpAy8IARUAAAAAGAElAADIQj0AgKJDeAHwAQH4Af4JgALQBYoCDAgAEAEYZSBKKEkwDw==&rs=AOn4CLAev_JU-vNVshXm239fEmXKCeyx0Q', 'https://i.ytimg.com/vi/feNAIFHaAWk/hq720.jpg?sqp=-oaymwExCNAFEJQDSFryq4qpAyMIARUAAIhCGAHwAQH4Af4JgALQBYoCDAgAEAEYZSBKKEkwDw==&rs=AOn4CLA_qaFN3igVfn-uysHR8B5AUXRo9Q'], 'title': 'U GOT ME CHÌM SÂU (Remake) - Wypi', 'long_desc': None, 'channel': 'Wypi', 'duration': '3:47', 'views': '465.843 weergaven', 'publish_time': '1 jaar geleden', 'url_suffix': '/watch?v=feNAIFHaAWk&pp=ygUIY2hpbSBzYXU%3D'}, {'id': 'AqD2anmyngk', 'thumbnails': ['https://i.ytimg.com/vi/AqD2anmyngk/hq720.jpg?sqp=-oaymwEjCOgCEMoBSFryq4qpAxUIARUAAAAAGAElAADIQj0AgKJDeAE=&rs=AOn4CLDCwKEPcNxGVnlEoQjqtYSYm517RQ', 'https://i.ytimg.com/vi/AqD2anmyngk/hq720.jpg?sqp=-oaymwEXCNAFEJQDSFryq4qpAwkIARUAAIhCGAE=&rs=AOn4CLBg58bkq9YOQkW0pjedMBH0RiOEOQ'], 'title': 'Ngã ngửa với những pha trộm chim “nhanh như chớp” khiến gia chủ trở tay không kịp | GCG', 'long_desc': None, 'channel': 'GÓC CẢNH GIÁC', 'duration': '9:39', 'views': '7.587 weergaven', 'publish_time': '3 uur geleden', 'url_suffix': '/watch?v=AqD2anmyngk&pp=ygUIY2hpbSBzYXU%3D'}, {'id': 'UlHN7hlmJKI', 'thumbnails': ['https://i.ytimg.com/vi/UlHN7hlmJKI/hq720.jpg?sqp=-oaymwEjCOgCEMoBSFryq4qpAxUIARUAAAAAGAElAADIQj0AgKJDeAE=&rs=AOn4CLAck-Dj6vTXwl6jIU38NkIgx2Mm5w', 'https://i.ytimg.com/vi/UlHN7hlmJKI/hq720.jpg?sqp=-oaymwEXCNAFEJQDSFryq4qpAwkIARUAAIhCGAE=&rs=AOn4CLCGjU02qsb_Lru8BH8uL8GT0abZmA'], 'title': 'RPT MCK - Chìm Sâu ft. Trung Trần [LIVE @ 99% Album Listening Party at 1900]', 'long_desc': None, 'channel': '1900 LE THÉÂTRE', 'duration': '2:44', 'views': '80.119 weergaven', 'publish_time': '3 weken geleden', 'url_suffix': '/watch?v=UlHN7hlmJKI&pp=ygUIY2hpbSBzYXU%3D'}]\n",
            "/watch?v=Yw9Ra2UiVLw&pp=ygUIY2hpbSBzYXU%3D\n",
            "http://www.youtube.com/watch?v=Yw9Ra2UiVLw&pp=ygUIY2hpbSBzYXU%3D\n",
            "bài hát của bạn đã được mở\n"
          ]
        }
      ]
    },
    {
      "cell_type": "code",
      "source": [
        "pip install openpyxl"
      ],
      "metadata": {
        "id": "tY-uiZVG6Ulc",
        "colab": {
          "base_uri": "https://localhost:8080/"
        },
        "outputId": "262367fd-fa47-403f-fe88-6d09c34cec56"
      },
      "execution_count": 6,
      "outputs": [
        {
          "output_type": "stream",
          "name": "stdout",
          "text": [
            "Looking in indexes: https://pypi.org/simple, https://us-python.pkg.dev/colab-wheels/public/simple/\n",
            "Requirement already satisfied: openpyxl in /usr/local/lib/python3.9/dist-packages (3.0.10)\n",
            "Requirement already satisfied: et-xmlfile in /usr/local/lib/python3.9/dist-packages (from openpyxl) (1.1.0)\n"
          ]
        }
      ]
    },
    {
      "cell_type": "code",
      "source": [
        "from youtube_search import YoutubeSearch\n",
        "import webbrowser\n",
        "from openpyxl import Workbook\n",
        "data=Workbook()\n",
        "sheet=data.active\n",
        "mysong=input('Xin moi ban chon bai hat:')\n",
        "print(mysong)\n",
        "result= YoutubeSearch(mysong, max_results=10).to_dict()\n",
        "print(result)\n",
        "for i in range(10):\n",
        "  print(result[i]['title'])\n",
        "  print(result[i]['url_suffix'])\n",
        "  url='https://www.youtube.com'+result[i]['url_suffix']\n",
        "  print(url)\n",
        "  sheet['A'+str(i+1)]=i+1\n",
        "  sheet['B'+str(i+1)]=result[i]['title']\n",
        "  sheet['C'+str(i+1)]=result[i]['url_suffix']\n",
        "  sheet['D'+str(i+1)]=result[i]['views']\n",
        "  sheet['E'+str(i+1)]=result[i]['duration']\n",
        "  sheet['F'+str(i+1)]=result[i]['publish_time']\n",
        "\n",
        "  #webbrowser.open(url)\n",
        "data.save('/content/drive/MyDrive/ute.xlsx')"
      ],
      "metadata": {
        "colab": {
          "base_uri": "https://localhost:8080/"
        },
        "id": "w6g1_wDV8LU3",
        "outputId": "99435b9e-1190-4e18-89f0-8c596b608e87"
      },
      "execution_count": 11,
      "outputs": [
        {
          "output_type": "stream",
          "name": "stdout",
          "text": [
            "Xin moi ban chon bai hat:chim sau\n",
            "chim sau\n",
            "[{'id': 'Yw9Ra2UiVLw', 'thumbnails': ['https://i.ytimg.com/vi/Yw9Ra2UiVLw/hq720.jpg?sqp=-oaymwE9COgCEMoBSFryq4qpAy8IARUAAAAAGAElAADIQj0AgKJDeAHwAQH4Af4JgALQBYoCDAgAEAEYHCAuKH8wDw==&rs=AOn4CLCMhJ-3quZHsoKR40MY6G3Y_6DTmQ', 'https://i.ytimg.com/vi/Yw9Ra2UiVLw/hq720.jpg?sqp=-oaymwExCNAFEJQDSFryq4qpAyMIARUAAIhCGAHwAQH4Af4JgALQBYoCDAgAEAEYHCAuKH8wDw==&rs=AOn4CLBrBlzFhGOzKSuS4-YdGyP-BtguZg'], 'title': 'Chìm Sâu - RPT MCK (feat. Trung Trần) | Official Lyrics Video', 'long_desc': None, 'channel': 'MCK // Nger', 'duration': '2:39', 'views': '53.883.978 weergaven', 'publish_time': '1 jaar geleden', 'url_suffix': '/watch?v=Yw9Ra2UiVLw&pp=ygUIY2hpbSBzYXU%3D'}, {'id': 'cgCA-jP5QSY', 'thumbnails': ['https://i.ytimg.com/vi/cgCA-jP5QSY/hq720.jpg?sqp=-oaymwE9COgCEMoBSFryq4qpAy8IARUAAAAAGAElAADIQj0AgKJDeAHwAQH4Af4JgALQBYoCDAgAEAEYNiBcKHIwDw==&rs=AOn4CLDgzNzRXxAzohfJQTXltJ4RbIxm3Q', 'https://i.ytimg.com/vi/cgCA-jP5QSY/hq720.jpg?sqp=-oaymwExCNAFEJQDSFryq4qpAyMIARUAAIhCGAHwAQH4Af4JgALQBYoCDAgAEAEYNiBcKHIwDw==&rs=AOn4CLCjqLnixRaccelXitT7LGENBHEPSw'], 'title': '02. Chìm Sâu - RPT MCK ( ft. Trung Trần ) | \" 99% \" the album', 'long_desc': None, 'channel': 'MCK // Nger', 'duration': '2:37', 'views': '1.636.866 weergaven', 'publish_time': '1 maand geleden', 'url_suffix': '/watch?v=cgCA-jP5QSY&pp=ygUIY2hpbSBzYXU%3D'}, {'id': 'sWapypQ7aGE', 'thumbnails': ['https://i.ytimg.com/vi/sWapypQ7aGE/hq720.jpg?sqp=-oaymwE9COgCEMoBSFryq4qpAy8IARUAAAAAGAElAADIQj0AgKJDeAHwAQH4Ac4FgALQBYoCDAgAEAEYfyATKDYwDw==&rs=AOn4CLAMUHJWOCO-CSjuBheM0D8jCblspg', 'https://i.ytimg.com/vi/sWapypQ7aGE/hq720.jpg?sqp=-oaymwExCNAFEJQDSFryq4qpAyMIARUAAIhCGAHwAQH4Ac4FgALQBYoCDAgAEAEYfyATKDYwDw==&rs=AOn4CLAG6ztTeFCSOzHWkoCRA-9FST-sKQ'], 'title': 'REPLAY 1 HOUR || CHÌM SÂU - MCK ft. Trung Trần', 'long_desc': None, 'channel': '_ R E P L A Y 1 H O U R _', 'duration': '59:49', 'views': '53.792 weergaven', 'publish_time': '1 jaar geleden', 'url_suffix': '/watch?v=sWapypQ7aGE&pp=ygUIY2hpbSBzYXU%3D'}, {'id': 'O1XmRX2AhwQ', 'thumbnails': ['https://i.ytimg.com/vi/O1XmRX2AhwQ/hqdefault.jpg?sqp=-oaymwEjCOADEI4CSFryq4qpAxUIARUAAAAAGAElAADIQj0AgKJDeAE=&rs=AOn4CLCehOq24fWq6-UeISfojwo79iw4jw'], 'title': 'Tiếng chim sâu đầu đỏ chuẩn 2018', 'long_desc': None, 'channel': 'Miền Tây Long An', 'duration': '29:24', 'views': '1.463.964 weergaven', 'publish_time': '4 jaar geleden', 'url_suffix': '/watch?v=O1XmRX2AhwQ&pp=ygUIY2hpbSBzYXU%3D'}, {'id': 'KFz_v5zDKuw', 'thumbnails': ['https://i.ytimg.com/vi/KFz_v5zDKuw/hq720.jpg?sqp=-oaymwEjCOgCEMoBSFryq4qpAxUIARUAAAAAGAElAADIQj0AgKJDeAE=&rs=AOn4CLDVayFCvc15y8aHk2Aq8g_HZmsrIg', 'https://i.ytimg.com/vi/KFz_v5zDKuw/hq720.jpg?sqp=-oaymwEXCNAFEJQDSFryq4qpAwkIARUAAIhCGAE=&rs=AOn4CLATQ---xhfBUvHqYWshVN3XAjroiw'], 'title': 'Sony Tran - CHIM SAU feat. Hoang Ton & Blacka | OFFICIAL MUSIC VIDEO', 'long_desc': None, 'channel': 'Sony Tran Official', 'duration': '3:31', 'views': '177.521 weergaven', 'publish_time': '8 maanden geleden', 'url_suffix': '/watch?v=KFz_v5zDKuw&pp=ygUIY2hpbSBzYXU%3D'}, {'id': '4eK6KCSPfA8', 'thumbnails': ['https://i.ytimg.com/vi/4eK6KCSPfA8/hqdefault.jpg?sqp=-oaymwEjCOADEI4CSFryq4qpAxUIARUAAAAAGAElAADIQj0AgKJDeAE=&rs=AOn4CLCfWjc8vp5w66xDnd5wzfQRifXiIA'], 'title': 'chim sâu đỏ mái ro', 'long_desc': None, 'channel': 'nhhung164', 'duration': '4:02', 'views': '2.065.537 weergaven', 'publish_time': '13 jaar geleden', 'url_suffix': '/watch?v=4eK6KCSPfA8&pp=ygUIY2hpbSBzYXU%3D'}, {'id': 'feNAIFHaAWk', 'thumbnails': ['https://i.ytimg.com/vi/feNAIFHaAWk/hq720.jpg?sqp=-oaymwE9COgCEMoBSFryq4qpAy8IARUAAAAAGAElAADIQj0AgKJDeAHwAQH4Af4JgALQBYoCDAgAEAEYZSBKKEkwDw==&rs=AOn4CLAev_JU-vNVshXm239fEmXKCeyx0Q', 'https://i.ytimg.com/vi/feNAIFHaAWk/hq720.jpg?sqp=-oaymwExCNAFEJQDSFryq4qpAyMIARUAAIhCGAHwAQH4Af4JgALQBYoCDAgAEAEYZSBKKEkwDw==&rs=AOn4CLA_qaFN3igVfn-uysHR8B5AUXRo9Q'], 'title': 'U GOT ME CHÌM SÂU (Remake) - Wypi', 'long_desc': None, 'channel': 'Wypi', 'duration': '3:47', 'views': '465.850 weergaven', 'publish_time': '1 jaar geleden', 'url_suffix': '/watch?v=feNAIFHaAWk&pp=ygUIY2hpbSBzYXU%3D'}, {'id': 'UVl6CO5BG5I', 'thumbnails': ['https://i.ytimg.com/vi/UVl6CO5BG5I/hqdefault.jpg?sqp=-oaymwEjCOADEI4CSFryq4qpAxUIARUAAAAAGAElAADIQj0AgKJDeAE=&rs=AOn4CLDp3keWQSrvBVLMSGM99GKMVUk-8g'], 'title': 'Cách nuôi chim sâu đầu đỏ con bao sống. T51', 'long_desc': None, 'channel': 'Triều Nguyễn tv8788', 'duration': '10:03', 'views': '13.681 weergaven', 'publish_time': '9 maanden geleden', 'url_suffix': '/watch?v=UVl6CO5BG5I&pp=ygUIY2hpbSBzYXU%3D'}, {'id': '3pOu80b3d0w', 'thumbnails': ['https://i.ytimg.com/vi/3pOu80b3d0w/hq720.jpg?sqp=-oaymwEjCOgCEMoBSFryq4qpAxUIARUAAAAAGAElAADIQj0AgKJDeAE=&rs=AOn4CLCvKy6GfsAhif9PWv9f2BzykfmrHg', 'https://i.ytimg.com/vi/3pOu80b3d0w/hq720.jpg?sqp=-oaymwEXCNAFEJQDSFryq4qpAwkIARUAAIhCGAE=&rs=AOn4CLAwkAl4yWE0Mkg6TeW6FiwSgOPBmA'], 'title': 'Bắt Ổ Cá Trê Giả Cứu Đàn Cá Con - Tổng  Chim Trĩ Đẻ Bao Nhiêu Quả?.Long Đen', 'long_desc': None, 'channel': 'Long Đen', 'duration': '19:28', 'views': '33.629 weergaven', 'publish_time': '21 uur geleden', 'url_suffix': '/watch?v=3pOu80b3d0w&pp=ygUIY2hpbSBzYXU%3D'}, {'id': 'Qh-bmsPxkBY', 'thumbnails': ['https://i.ytimg.com/vi/Qh-bmsPxkBY/hq720.jpg?sqp=-oaymwE9COgCEMoBSFryq4qpAy8IARUAAAAAGAElAADIQj0AgKJDeAHwAQH4Af4JgALQBYoCDAgAEAEYVSBHKGUwDw==&rs=AOn4CLBDjYXDzZTq5aOrt4YaIZu9_ZsA-g', 'https://i.ytimg.com/vi/Qh-bmsPxkBY/hq720.jpg?sqp=-oaymwExCNAFEJQDSFryq4qpAyMIARUAAIhCGAHwAQH4Af4JgALQBYoCDAgAEAEYVSBHKGUwDw==&rs=AOn4CLCikUUX13E8Ny-RzftSv1E1rUV4Sw'], 'title': 'chìm sâu - MCK live at HVC', 'long_desc': None, 'channel': 'Yen Vy Ngo', 'duration': '2:25', 'views': '224.525 weergaven', 'publish_time': '10 maanden geleden', 'url_suffix': '/watch?v=Qh-bmsPxkBY&pp=ygUIY2hpbSBzYXU%3D'}]\n",
            "Chìm Sâu - RPT MCK (feat. Trung Trần) | Official Lyrics Video\n",
            "/watch?v=Yw9Ra2UiVLw&pp=ygUIY2hpbSBzYXU%3D\n",
            "https://www.youtube.com/watch?v=Yw9Ra2UiVLw&pp=ygUIY2hpbSBzYXU%3D\n",
            "02. Chìm Sâu - RPT MCK ( ft. Trung Trần ) | \" 99% \" the album\n",
            "/watch?v=cgCA-jP5QSY&pp=ygUIY2hpbSBzYXU%3D\n",
            "https://www.youtube.com/watch?v=cgCA-jP5QSY&pp=ygUIY2hpbSBzYXU%3D\n",
            "REPLAY 1 HOUR || CHÌM SÂU - MCK ft. Trung Trần\n",
            "/watch?v=sWapypQ7aGE&pp=ygUIY2hpbSBzYXU%3D\n",
            "https://www.youtube.com/watch?v=sWapypQ7aGE&pp=ygUIY2hpbSBzYXU%3D\n",
            "Tiếng chim sâu đầu đỏ chuẩn 2018\n",
            "/watch?v=O1XmRX2AhwQ&pp=ygUIY2hpbSBzYXU%3D\n",
            "https://www.youtube.com/watch?v=O1XmRX2AhwQ&pp=ygUIY2hpbSBzYXU%3D\n",
            "Sony Tran - CHIM SAU feat. Hoang Ton & Blacka | OFFICIAL MUSIC VIDEO\n",
            "/watch?v=KFz_v5zDKuw&pp=ygUIY2hpbSBzYXU%3D\n",
            "https://www.youtube.com/watch?v=KFz_v5zDKuw&pp=ygUIY2hpbSBzYXU%3D\n",
            "chim sâu đỏ mái ro\n",
            "/watch?v=4eK6KCSPfA8&pp=ygUIY2hpbSBzYXU%3D\n",
            "https://www.youtube.com/watch?v=4eK6KCSPfA8&pp=ygUIY2hpbSBzYXU%3D\n",
            "U GOT ME CHÌM SÂU (Remake) - Wypi\n",
            "/watch?v=feNAIFHaAWk&pp=ygUIY2hpbSBzYXU%3D\n",
            "https://www.youtube.com/watch?v=feNAIFHaAWk&pp=ygUIY2hpbSBzYXU%3D\n",
            "Cách nuôi chim sâu đầu đỏ con bao sống. T51\n",
            "/watch?v=UVl6CO5BG5I&pp=ygUIY2hpbSBzYXU%3D\n",
            "https://www.youtube.com/watch?v=UVl6CO5BG5I&pp=ygUIY2hpbSBzYXU%3D\n",
            "Bắt Ổ Cá Trê Giả Cứu Đàn Cá Con - Tổng  Chim Trĩ Đẻ Bao Nhiêu Quả?.Long Đen\n",
            "/watch?v=3pOu80b3d0w&pp=ygUIY2hpbSBzYXU%3D\n",
            "https://www.youtube.com/watch?v=3pOu80b3d0w&pp=ygUIY2hpbSBzYXU%3D\n",
            "chìm sâu - MCK live at HVC\n",
            "/watch?v=Qh-bmsPxkBY&pp=ygUIY2hpbSBzYXU%3D\n",
            "https://www.youtube.com/watch?v=Qh-bmsPxkBY&pp=ygUIY2hpbSBzYXU%3D\n"
          ]
        }
      ]
    }
  ]
}