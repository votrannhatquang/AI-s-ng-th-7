{
  "nbformat": 4,
  "nbformat_minor": 0,
  "metadata": {
    "colab": {
      "provenance": [],
      "gpuType": "T4",
      "mount_file_id": "1mLAUnY2ubM7V0t96_HSG0f5IR1G09j8u",
      "authorship_tag": "ABX9TyNVS5xR1Dx6/yJHzsYUlCUQ",
      "include_colab_link": true
    },
    "kernelspec": {
      "name": "python3",
      "display_name": "Python 3"
    },
    "language_info": {
      "name": "python"
    },
    "gpuClass": "standard"
  },
  "cells": [
    {
      "cell_type": "markdown",
      "metadata": {
        "id": "view-in-github",
        "colab_type": "text"
      },
      "source": [
        "<a href=\"https://colab.research.google.com/github/votrannhatquang/AI-s-ng-th-7/blob/main/ST7_6_5_2023.ipynb\" target=\"_parent\"><img src=\"https://colab.research.google.com/assets/colab-badge.svg\" alt=\"Open In Colab\"/></a>"
      ]
    },
    {
      "cell_type": "code",
      "execution_count": 2,
      "metadata": {
        "colab": {
          "base_uri": "https://localhost:8080/"
        },
        "id": "rhYLuCiFdxtk",
        "outputId": "0ab43282-ea6d-45f9-eb2a-c76ad74a3508"
      },
      "outputs": [
        {
          "output_type": "stream",
          "name": "stdout",
          "text": [
            "Looking in indexes: https://pypi.org/simple, https://us-python.pkg.dev/colab-wheels/public/simple/\n",
            "Collecting SpeechRecognition\n",
            "  Using cached SpeechRecognition-3.10.0-py2.py3-none-any.whl (32.8 MB)\n",
            "Requirement already satisfied: requests>=2.26.0 in /usr/local/lib/python3.10/dist-packages (from SpeechRecognition) (2.27.1)\n",
            "Requirement already satisfied: urllib3<1.27,>=1.21.1 in /usr/local/lib/python3.10/dist-packages (from requests>=2.26.0->SpeechRecognition) (1.26.15)\n",
            "Requirement already satisfied: certifi>=2017.4.17 in /usr/local/lib/python3.10/dist-packages (from requests>=2.26.0->SpeechRecognition) (2022.12.7)\n",
            "Requirement already satisfied: idna<4,>=2.5 in /usr/local/lib/python3.10/dist-packages (from requests>=2.26.0->SpeechRecognition) (3.4)\n",
            "Requirement already satisfied: charset-normalizer~=2.0.0 in /usr/local/lib/python3.10/dist-packages (from requests>=2.26.0->SpeechRecognition) (2.0.12)\n",
            "Installing collected packages: SpeechRecognition\n",
            "Successfully installed SpeechRecognition-3.10.0\n"
          ]
        }
      ],
      "source": [
        "pip install SpeechRecognition "
      ]
    },
    {
      "cell_type": "code",
      "source": [
        "file ='/content/drive/MyDrive/male (1).wav'\n",
        "import speech_recognition as sr\n",
        "r = sr.Recognizer()\n",
        "with sr.AudioFile(file) as source:\n",
        "  data = r.record(source)\n",
        "  text=r.recognize_google(data)\n",
        "print(text)"
      ],
      "metadata": {
        "colab": {
          "base_uri": "https://localhost:8080/"
        },
        "id": "ZRLt_U60hB2h",
        "outputId": "823ea180-0a99-47e0-8f00-d18ad2dc1353"
      },
      "execution_count": 5,
      "outputs": [
        {
          "output_type": "stream",
          "name": "stdout",
          "text": [
            "what if somebody decides to break it be careful that you keep adequate coverage but look for places to save money baby it's taking longer to get things squared away than the bankers expected during the wife for once company may win her tax hated retirement income as helpful as our cost on the two naked bone when the title of this type of song is in question there's no dying or waxing or gassing needed maybe personalized leather hard place work on a flat surface and smooth out the simplest kind of separate system uses a single self-contained unit the old shop at it still holds a good mechanic is usually a bad boss both figures would go higher in later years doll houses at set\n"
          ]
        }
      ]
    },
    {
      "cell_type": "code",
      "source": [
        "file ='/content/drive/MyDrive/talk/chinese-talk.wav'\n",
        "import speech_recognition as sr\n",
        "r = sr.Recognizer()\n",
        "with sr.AudioFile(file) as source:\n",
        "  data = r.record(source)\n",
        "  text=r.recognize_google(data,language='zh-cn')\n",
        "print(text)"
      ],
      "metadata": {
        "colab": {
          "base_uri": "https://localhost:8080/"
        },
        "id": "j4ln8TOHipCU",
        "outputId": "1a08c94a-7d57-4c96-b0ce-9933c4600620"
      },
      "execution_count": 7,
      "outputs": [
        {
          "output_type": "stream",
          "name": "stdout",
          "text": [
            "今天跟大家分享一个主题题目叫做学会理解彼此的差异不大概先了解一下这个房间里面请问你觉得你自己是感性的人还是理性的人千万不要告诉我感性与理性认为自己天感性的人去处理性的了半对半但是是否事实果真如此呢我希望在等会非常简短的演讲做完以后你可以得出一个明确的选择如何快速的分别你自己是感性和理性还是能够看出来不同的人和人之间的差异其实从你家里面一家四口在看电视的时候你就可以发现了北京卫视现在播了一个很牛的节目叫我是演说家然后一家四口四个人坐在沙发上面再看电视的一个人老妈看到一半的时候突然发现那户人家里面很哑妻离子散家阿和\n"
          ]
        }
      ]
    },
    {
      "cell_type": "code",
      "source": [
        "file ='/content/drive/MyDrive/talk/japanese-talk.wav'\n",
        "import speech_recognition as sr\n",
        "r = sr.Recognizer()\n",
        "with sr.AudioFile(file) as source:\n",
        "  data = r.record(source)\n",
        "  text=r.recognize_google(data,language='ja')\n",
        "print(text)"
      ],
      "metadata": {
        "colab": {
          "base_uri": "https://localhost:8080/"
        },
        "id": "3M8P35Aslbye",
        "outputId": "1aa74746-3a24-4902-8c7f-40801dd39b00"
      },
      "execution_count": 8,
      "outputs": [
        {
          "output_type": "stream",
          "name": "stdout",
          "text": [
            "最近色々まあ 悲しいニュースなんかを見まして 自己愛 自分を愛するということについてよく考えます 僕たちは他人を愛しなさい ということは1つの価値観として大切なこととして教えられてきましたが 自分を愛するということについてはあまり 積極的に語ってな 来なかったんじゃないでしょうか 何ででしょうか 多分 わが神が可愛いっていうのは自明のことでわざわざ その改めて自分を愛しなさいと言う必要がないからと思われてきたからからなのかもしれません人間は利己的なところがあります 何でも自分の思い通りにしたいとしかし何もかもがうまくいってるからじゃあ そういう自分を愛することができるかと言うと また ちょっと違うかもしれません どちらかというと 自己愛が語りにくい\n"
          ]
        }
      ]
    },
    {
      "cell_type": "code",
      "source": [
        "file ='/content/drive/MyDrive/music/Korea_itaewon_class.wav'\n",
        "import speech_recognition as sr\n",
        "r = sr.Recognizer()\n",
        "with sr.AudioFile(file) as source:\n",
        "  data = r.record(source)\n",
        "  text=r.recognize_google(data,language='ko')\n",
        "print(text)"
      ],
      "metadata": {
        "colab": {
          "base_uri": "https://localhost:8080/"
        },
        "id": "lFy3uxdLlys4",
        "outputId": "347973fb-0d35-4c7a-910b-596eca24b00e"
      },
      "execution_count": 10,
      "outputs": [
        {
          "output_type": "stream",
          "name": "stdout",
          "text": [
            "시작은 하지 않은 것처럼 시곗바늘처럼 들어가고 싶어 하지 그런 거는 너무 범방동 하겠지 지나가고 알겠어 이렇게 해 가지고 지금\n"
          ]
        }
      ]
    },
    {
      "cell_type": "code",
      "source": [
        "file ='/content/drive/MyDrive/music/Korea_itaewon_class.wav'\n",
        "import speech_recognition as sr\n",
        "r = sr.Recognizer()\n",
        "with sr.AudioFile(file) as source:\n",
        "  data = r.record(source,offset=5,duration=20)\n",
        "  text=r.recognize_google(data,language='ko')\n",
        "print(text)"
      ],
      "metadata": {
        "colab": {
          "base_uri": "https://localhost:8080/"
        },
        "id": "EBARD01AmZdX",
        "outputId": "57f19bb7-7510-4645-8891-79c9933609ba"
      },
      "execution_count": 11,
      "outputs": [
        {
          "output_type": "stream",
          "name": "stdout",
          "text": [
            "없는 것처럼 시곗바늘처럼 들어가고 싶어 하지 그런 거는 너무 좋아\n"
          ]
        }
      ]
    },
    {
      "cell_type": "code",
      "source": [
        "file ='/content/drive/MyDrive/music/File âm thanh/3. Nha╠úc Tha╠üi Lan.wav'\n",
        "import speech_recognition as sr\n",
        "r = sr.Recognizer()\n",
        "with sr.AudioFile(file) as source:\n",
        "  data = r.record(source,offset=5,duration=20)\n",
        "  text=r.recognize_google(data,language='th')\n",
        "print(text)"
      ],
      "metadata": {
        "colab": {
          "base_uri": "https://localhost:8080/"
        },
        "id": "8uXFt8iPoTiy",
        "outputId": "f24fc273-9d9c-409c-f2c6-ea4abc1ef2e1"
      },
      "execution_count": 16,
      "outputs": [
        {
          "output_type": "stream",
          "name": "stdout",
          "text": [
            "บางวันที่มีแต่ฉันไม่เหงาไม่พอให้ไม่ถึงไหนเลยยังไม่เคยจะไปหาใครๆจะอยู่เฉยๆอะไรไม่รู้ไว้ว่าจะทำอะไร\n"
          ]
        }
      ]
    },
    {
      "cell_type": "code",
      "source": [
        "file ='/content/drive/MyDrive/music/English_shape_of_you.wav'\n",
        "import speech_recognition as sr\n",
        "r = sr.Recognizer()\n",
        "with sr.AudioFile(file) as source:\n",
        "  data1=r.record(source,offset=5,duration=30)\n",
        "  text=r.recognize_google(data)\n",
        "print(text)"
      ],
      "metadata": {
        "colab": {
          "base_uri": "https://localhost:8080/"
        },
        "id": "13WV9D9wqCYg",
        "outputId": "ca45258d-a082-4366-b552-b3054eebd9a7"
      },
      "execution_count": 20,
      "outputs": [
        {
          "output_type": "stream",
          "name": "stdout",
          "text": [
            "best place to find a lover\n"
          ]
        }
      ]
    },
    {
      "cell_type": "code",
      "source": [],
      "metadata": {
        "id": "V_cXaI9AvaYd"
      },
      "execution_count": null,
      "outputs": []
    }
  ]
}