{
  "nbformat": 4,
  "nbformat_minor": 0,
  "metadata": {
    "colab": {
      "provenance": [],
      "mount_file_id": "12kH0lptbSW8QS5J_jvN5cOvYkv1Vt_5B",
      "authorship_tag": "ABX9TyMrQKzJ8MSQ/+LzWHZljHO4",
      "include_colab_link": true
    },
    "kernelspec": {
      "name": "python3",
      "display_name": "Python 3"
    },
    "language_info": {
      "name": "python"
    }
  },
  "cells": [
    {
      "cell_type": "markdown",
      "metadata": {
        "id": "view-in-github",
        "colab_type": "text"
      },
      "source": [
        "<a href=\"https://colab.research.google.com/github/votrannhatquang/AI-s-ng-th-7/blob/main/gess_cifar10.ipynb\" target=\"_parent\"><img src=\"https://colab.research.google.com/assets/colab-badge.svg\" alt=\"Open In Colab\"/></a>"
      ]
    },
    {
      "cell_type": "code",
      "execution_count": 1,
      "metadata": {
        "id": "AmmFSdrQyQmm"
      },
      "outputs": [],
      "source": [
        "from keras.models import load_model\n",
        "model =load_model(\"/content/drive/MyDrive/test3.h5\")"
      ]
    },
    {
      "cell_type": "code",
      "source": [
        "import numpy as np\n",
        "from keras.utils import load_img, img_to_array\n",
        "vat = {0: 'airplane',1:'automobile', 2:'bird', 3:'cat', 4:'deer', 5:'dog', 6:'frog', 7:'house', 8:'ship', 9:'truck' }\n",
        "img=load_img('/content/drive/MyDrive/meo_vang3.jpg', target_size=(32,32))\n",
        "plt.imshow(img)\n",
        "img=img_to_array(img)\n",
        "img = img.reshape(1,32,32,3)\n",
        "img = img.astype('float32')\n",
        "img = img/255\n",
        "\n",
        "\n",
        "ketqua=np.argmax(model.predict(img),axis =1)\n",
        "vat[ketqua[0]]\n"
      ],
      "metadata": {
        "colab": {
          "base_uri": "https://localhost:8080/",
          "height": 466
        },
        "id": "mraJ8C7BygJt",
        "outputId": "e3b22b82-fc47-471a-956a-3c47093eead0"
      },
      "execution_count": 7,
      "outputs": [
        {
          "output_type": "stream",
          "name": "stdout",
          "text": [
            "1/1 [==============================] - 0s 17ms/step\n"
          ]
        },
        {
          "output_type": "execute_result",
          "data": {
            "text/plain": [
              "'cat'"
            ],
            "application/vnd.google.colaboratory.intrinsic+json": {
              "type": "string"
            }
          },
          "metadata": {},
          "execution_count": 7
        },
        {
          "output_type": "display_data",
          "data": {
            "text/plain": [
              "<Figure size 640x480 with 1 Axes>"
            ],
            "image/png": "[encoded data removed]"
          },
          "metadata": {}
        }
      ]
    }
  ]
}