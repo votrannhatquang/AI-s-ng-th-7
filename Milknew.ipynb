{
  "nbformat": 4,
  "nbformat_minor": 0,
  "metadata": {
    "colab": {
      "provenance": [],
      "gpuType": "T4",
      "include_colab_link": true
    },
    "kernelspec": {
      "name": "python3",
      "display_name": "Python 3"
    },
    "language_info": {
      "name": "python"
    },
    "accelerator": "GPU",
    "gpuClass": "standard"
  },
  "cells": [
    {
      "cell_type": "markdown",
      "metadata": {
        "id": "view-in-github",
        "colab_type": "text"
      },
      "source": [
        "<a href=\"https://colab.research.google.com/github/votrannhatquang/AI-s-ng-th-7/blob/main/Milknew.ipynb\" target=\"_parent\"><img src=\"https://colab.research.google.com/assets/colab-badge.svg\" alt=\"Open In Colab\"/></a>"
      ]
    },
    {
      "cell_type": "code",
      "execution_count": 1,
      "metadata": {
        "colab": {
          "base_uri": "https://localhost:8080/",
          "height": 442
        },
        "id": "Rvxsm53ZyOKk",
        "outputId": "26beadc3-46ad-4896-8bc8-5cac6bcee9c0"
      },
      "outputs": [
        {
          "output_type": "stream",
          "name": "stdout",
          "text": [
            "(1059, 8)\n"
          ]
        },
        {
          "output_type": "execute_result",
          "data": {
            "text/plain": [
              "       pH  Temprature  Taste  Odor  Fat   Turbidity  Colour   Grade\n",
              "0     6.6          35      1     0     1          0     254    high\n",
              "1     6.6          36      0     1     0          1     253    high\n",
              "2     8.5          70      1     1     1          1     246     low\n",
              "3     9.5          34      1     1     0          1     255     low\n",
              "4     6.6          37      0     0     0          0     255  medium\n",
              "...   ...         ...    ...   ...   ...        ...     ...     ...\n",
              "1054  6.7          45      1     1     0          0     247  medium\n",
              "1055  6.7          38      1     0     1          0     255    high\n",
              "1056  3.0          40      1     1     1          1     255     low\n",
              "1057  6.8          43      1     0     1          0     250    high\n",
              "1058  8.6          55      0     1     1          1     255     low\n",
              "\n",
              "[1059 rows x 8 columns]"
            ],
            "text/html": [
              "\n",
              "  <div id=\"df-18069cb7-002f-498f-a8bb-2fbe56baf039\">\n",
              "    <div class=\"colab-df-container\">\n",
              "      <div>\n",
              "<style scoped>\n",
              "    .dataframe tbody tr th:only-of-type {\n",
              "        vertical-align: middle;\n",
              "    }\n",
              "\n",
              "    .dataframe tbody tr th {\n",
              "        vertical-align: top;\n",
              "    }\n",
              "\n",
              "    .dataframe thead th {\n",
              "        text-align: right;\n",
              "    }\n",
              "</style>\n",
              "<table border=\"1\" class=\"dataframe\">\n",
              "  <thead>\n",
              "    <tr style=\"text-align: right;\">\n",
              "      <th></th>\n",
              "      <th>pH</th>\n",
              "      <th>Temprature</th>\n",
              "      <th>Taste</th>\n",
              "      <th>Odor</th>\n",
              "      <th>Fat</th>\n",
              "      <th>Turbidity</th>\n",
              "      <th>Colour</th>\n",
              "      <th>Grade</th>\n",
              "    </tr>\n",
              "  </thead>\n",
              "  <tbody>\n",
              "    <tr>\n",
              "      <th>0</th>\n",
              "      <td>6.6</td>\n",
              "      <td>35</td>\n",
              "      <td>1</td>\n",
              "      <td>0</td>\n",
              "      <td>1</td>\n",
              "      <td>0</td>\n",
              "      <td>254</td>\n",
              "      <td>high</td>\n",
              "    </tr>\n",
              "    <tr>\n",
              "      <th>1</th>\n",
              "      <td>6.6</td>\n",
              "      <td>36</td>\n",
              "      <td>0</td>\n",
              "      <td>1</td>\n",
              "      <td>0</td>\n",
              "      <td>1</td>\n",
              "      <td>253</td>\n",
              "      <td>high</td>\n",
              "    </tr>\n",
              "    <tr>\n",
              "      <th>2</th>\n",
              "      <td>8.5</td>\n",
              "      <td>70</td>\n",
              "      <td>1</td>\n",
              "      <td>1</td>\n",
              "      <td>1</td>\n",
              "      <td>1</td>\n",
              "      <td>246</td>\n",
              "      <td>low</td>\n",
              "    </tr>\n",
              "    <tr>\n",
              "      <th>3</th>\n",
              "      <td>9.5</td>\n",
              "      <td>34</td>\n",
              "      <td>1</td>\n",
              "      <td>1</td>\n",
              "      <td>0</td>\n",
              "      <td>1</td>\n",
              "      <td>255</td>\n",
              "      <td>low</td>\n",
              "    </tr>\n",
              "    <tr>\n",
              "      <th>4</th>\n",
              "      <td>6.6</td>\n",
              "      <td>37</td>\n",
              "      <td>0</td>\n",
              "      <td>0</td>\n",
              "      <td>0</td>\n",
              "      <td>0</td>\n",
              "      <td>255</td>\n",
              "      <td>medium</td>\n",
              "    </tr>\n",
              "    <tr>\n",
              "      <th>...</th>\n",
              "      <td>...</td>\n",
              "      <td>...</td>\n",
              "      <td>...</td>\n",
              "      <td>...</td>\n",
              "      <td>...</td>\n",
              "      <td>...</td>\n",
              "      <td>...</td>\n",
              "      <td>...</td>\n",
              "    </tr>\n",
              "    <tr>\n",
              "      <th>1054</th>\n",
              "      <td>6.7</td>\n",
              "      <td>45</td>\n",
              "      <td>1</td>\n",
              "      <td>1</td>\n",
              "      <td>0</td>\n",
              "      <td>0</td>\n",
              "      <td>247</td>\n",
              "      <td>medium</td>\n",
              "    </tr>\n",
              "    <tr>\n",
              "      <th>1055</th>\n",
              "      <td>6.7</td>\n",
              "      <td>38</td>\n",
              "      <td>1</td>\n",
              "      <td>0</td>\n",
              "      <td>1</td>\n",
              "      <td>0</td>\n",
              "      <td>255</td>\n",
              "      <td>high</td>\n",
              "    </tr>\n",
              "    <tr>\n",
              "      <th>1056</th>\n",
              "      <td>3.0</td>\n",
              "      <td>40</td>\n",
              "      <td>1</td>\n",
              "      <td>1</td>\n",
              "      <td>1</td>\n",
              "      <td>1</td>\n",
              "      <td>255</td>\n",
              "      <td>low</td>\n",
              "    </tr>\n",
              "    <tr>\n",
              "      <th>1057</th>\n",
              "      <td>6.8</td>\n",
              "      <td>43</td>\n",
              "      <td>1</td>\n",
              "      <td>0</td>\n",
              "      <td>1</td>\n",
              "      <td>0</td>\n",
              "      <td>250</td>\n",
              "      <td>high</td>\n",
              "    </tr>\n",
              "    <tr>\n",
              "      <th>1058</th>\n",
              "      <td>8.6</td>\n",
              "      <td>55</td>\n",
              "      <td>0</td>\n",
              "      <td>1</td>\n",
              "      <td>1</td>\n",
              "      <td>1</td>\n",
              "      <td>255</td>\n",
              "      <td>low</td>\n",
              "    </tr>\n",
              "  </tbody>\n",
              "</table>\n",
              "<p>1059 rows × 8 columns</p>\n",
              "</div>\n",
              "      <button class=\"colab-df-convert\" onclick=\"convertToInteractive('df-18069cb7-002f-498f-a8bb-2fbe56baf039')\"\n",
              "              title=\"Convert this dataframe to an interactive table.\"\n",
              "              style=\"display:none;\">\n",
              "        \n",
              "  <svg xmlns=\"http://www.w3.org/2000/svg\" height=\"24px\"viewBox=\"0 0 24 24\"\n",
              "       width=\"24px\">\n",
              "    <path d=\"M0 0h24v24H0V0z\" fill=\"none\"/>\n",
              "    <path d=\"M18.56 5.44l.94 2.06.94-2.06 2.06-.94-2.06-.94-.94-2.06-.94 2.06-2.06.94zm-11 1L8.5 8.5l.94-2.06 2.06-.94-2.06-.94L8.5 2.5l-.94 2.06-2.06.94zm10 10l.94 2.06.94-2.06 2.06-.94-2.06-.94-.94-2.06-.94 2.06-2.06.94z\"/><path d=\"M17.41 7.96l-1.37-1.37c-.4-.4-.92-.59-1.43-.59-.52 0-1.04.2-1.43.59L10.3 9.45l-7.72 7.72c-.78.78-.78 2.05 0 2.83L4 21.41c.39.39.9.59 1.41.59.51 0 1.02-.2 1.41-.59l7.78-7.78 2.81-2.81c.8-.78.8-2.07 0-2.86zM5.41 20L4 18.59l7.72-7.72 1.47 1.35L5.41 20z\"/>\n",
              "  </svg>\n",
              "      </button>\n",
              "      \n",
              "  <style>\n",
              "    .colab-df-container {\n",
              "      display:flex;\n",
              "      flex-wrap:wrap;\n",
              "      gap: 12px;\n",
              "    }\n",
              "\n",
              "    .colab-df-convert {\n",
              "      background-color: #E8F0FE;\n",
              "      border: none;\n",
              "      border-radius: 50%;\n",
              "      cursor: pointer;\n",
              "      display: none;\n",
              "      fill: #1967D2;\n",
              "      height: 32px;\n",
              "      padding: 0 0 0 0;\n",
              "      width: 32px;\n",
              "    }\n",
              "\n",
              "    .colab-df-convert:hover {\n",
              "      background-color: #E2EBFA;\n",
              "      box-shadow: 0px 1px 2px rgba(60, 64, 67, 0.3), 0px 1px 3px 1px rgba(60, 64, 67, 0.15);\n",
              "      fill: #174EA6;\n",
              "    }\n",
              "\n",
              "    [theme=dark] .colab-df-convert {\n",
              "      background-color: #3B4455;\n",
              "      fill: #D2E3FC;\n",
              "    }\n",
              "\n",
              "    [theme=dark] .colab-df-convert:hover {\n",
              "      background-color: #434B5C;\n",
              "      box-shadow: 0px 1px 3px 1px rgba(0, 0, 0, 0.15);\n",
              "      filter: drop-shadow(0px 1px 2px rgba(0, 0, 0, 0.3));\n",
              "      fill: #FFFFFF;\n",
              "    }\n",
              "  </style>\n",
              "\n",
              "      <script>\n",
              "        const buttonEl =\n",
              "          document.querySelector('#df-18069cb7-002f-498f-a8bb-2fbe56baf039 button.colab-df-convert');\n",
              "        buttonEl.style.display =\n",
              "          google.colab.kernel.accessAllowed ? 'block' : 'none';\n",
              "\n",
              "        async function convertToInteractive(key) {\n",
              "          const element = document.querySelector('#df-18069cb7-002f-498f-a8bb-2fbe56baf039');\n",
              "          const dataTable =\n",
              "            await google.colab.kernel.invokeFunction('convertToInteractive',\n",
              "                                                     [key], {});\n",
              "          if (!dataTable) return;\n",
              "\n",
              "          const docLinkHtml = 'Like what you see? Visit the ' +\n",
              "            '<a target=\"_blank\" href=https://colab.research.google.com/notebooks/data_table.ipynb>data table notebook</a>'\n",
              "            + ' to learn more about interactive tables.';\n",
              "          element.innerHTML = '';\n",
              "          dataTable['output_type'] = 'display_data';\n",
              "          await google.colab.output.renderOutput(dataTable, element);\n",
              "          const docLink = document.createElement('div');\n",
              "          docLink.innerHTML = docLinkHtml;\n",
              "          element.appendChild(docLink);\n",
              "        }\n",
              "      </script>\n",
              "    </div>\n",
              "  </div>\n",
              "  "
            ]
          },
          "metadata": {},
          "execution_count": 1
        }
      ],
      "source": [
        "#Loading data File\n",
        "import pandas as pd\n",
        "url = 'milknew.csv'\n",
        "dataframe = pd.read_csv(url)\n",
        "print(dataframe.shape)\n",
        "dataframe"
      ]
    },
    {
      "cell_type": "code",
      "source": [
        "# replace type from string to number\n",
        "dataframe['Grade']=dataframe['Grade'].replace([\"high\", \"low\",\"medium\"],[1,2,3])\n",
        "dataframe"
      ],
      "metadata": {
        "colab": {
          "base_uri": "https://localhost:8080/",
          "height": 423
        },
        "id": "sYjpAvn8yhPX",
        "outputId": "17914f58-2d0d-4b10-97ae-4108abcf394d"
      },
      "execution_count": 2,
      "outputs": [
        {
          "output_type": "execute_result",
          "data": {
            "text/plain": [
              "       pH  Temprature  Taste  Odor  Fat   Turbidity  Colour  Grade\n",
              "0     6.6          35      1     0     1          0     254      1\n",
              "1     6.6          36      0     1     0          1     253      1\n",
              "2     8.5          70      1     1     1          1     246      2\n",
              "3     9.5          34      1     1     0          1     255      2\n",
              "4     6.6          37      0     0     0          0     255      3\n",
              "...   ...         ...    ...   ...   ...        ...     ...    ...\n",
              "1054  6.7          45      1     1     0          0     247      3\n",
              "1055  6.7          38      1     0     1          0     255      1\n",
              "1056  3.0          40      1     1     1          1     255      2\n",
              "1057  6.8          43      1     0     1          0     250      1\n",
              "1058  8.6          55      0     1     1          1     255      2\n",
              "\n",
              "[1059 rows x 8 columns]"
            ],
            "text/html": [
              "\n",
              "  <div id=\"df-975595ce-3cbc-42a7-bbea-bce7e6d06198\">\n",
              "    <div class=\"colab-df-container\">\n",
              "      <div>\n",
              "<style scoped>\n",
              "    .dataframe tbody tr th:only-of-type {\n",
              "        vertical-align: middle;\n",
              "    }\n",
              "\n",
              "    .dataframe tbody tr th {\n",
              "        vertical-align: top;\n",
              "    }\n",
              "\n",
              "    .dataframe thead th {\n",
              "        text-align: right;\n",
              "    }\n",
              "</style>\n",
              "<table border=\"1\" class=\"dataframe\">\n",
              "  <thead>\n",
              "    <tr style=\"text-align: right;\">\n",
              "      <th></th>\n",
              "      <th>pH</th>\n",
              "      <th>Temprature</th>\n",
              "      <th>Taste</th>\n",
              "      <th>Odor</th>\n",
              "      <th>Fat</th>\n",
              "      <th>Turbidity</th>\n",
              "      <th>Colour</th>\n",
              "      <th>Grade</th>\n",
              "    </tr>\n",
              "  </thead>\n",
              "  <tbody>\n",
              "    <tr>\n",
              "      <th>0</th>\n",
              "      <td>6.6</td>\n",
              "      <td>35</td>\n",
              "      <td>1</td>\n",
              "      <td>0</td>\n",
              "      <td>1</td>\n",
              "      <td>0</td>\n",
              "      <td>254</td>\n",
              "      <td>1</td>\n",
              "    </tr>\n",
              "    <tr>\n",
              "      <th>1</th>\n",
              "      <td>6.6</td>\n",
              "      <td>36</td>\n",
              "      <td>0</td>\n",
              "      <td>1</td>\n",
              "      <td>0</td>\n",
              "      <td>1</td>\n",
              "      <td>253</td>\n",
              "      <td>1</td>\n",
              "    </tr>\n",
              "    <tr>\n",
              "      <th>2</th>\n",
              "      <td>8.5</td>\n",
              "      <td>70</td>\n",
              "      <td>1</td>\n",
              "      <td>1</td>\n",
              "      <td>1</td>\n",
              "      <td>1</td>\n",
              "      <td>246</td>\n",
              "      <td>2</td>\n",
              "    </tr>\n",
              "    <tr>\n",
              "      <th>3</th>\n",
              "      <td>9.5</td>\n",
              "      <td>34</td>\n",
              "      <td>1</td>\n",
              "      <td>1</td>\n",
              "      <td>0</td>\n",
              "      <td>1</td>\n",
              "      <td>255</td>\n",
              "      <td>2</td>\n",
              "    </tr>\n",
              "    <tr>\n",
              "      <th>4</th>\n",
              "      <td>6.6</td>\n",
              "      <td>37</td>\n",
              "      <td>0</td>\n",
              "      <td>0</td>\n",
              "      <td>0</td>\n",
              "      <td>0</td>\n",
              "      <td>255</td>\n",
              "      <td>3</td>\n",
              "    </tr>\n",
              "    <tr>\n",
              "      <th>...</th>\n",
              "      <td>...</td>\n",
              "      <td>...</td>\n",
              "      <td>...</td>\n",
              "      <td>...</td>\n",
              "      <td>...</td>\n",
              "      <td>...</td>\n",
              "      <td>...</td>\n",
              "      <td>...</td>\n",
              "    </tr>\n",
              "    <tr>\n",
              "      <th>1054</th>\n",
              "      <td>6.7</td>\n",
              "      <td>45</td>\n",
              "      <td>1</td>\n",
              "      <td>1</td>\n",
              "      <td>0</td>\n",
              "      <td>0</td>\n",
              "      <td>247</td>\n",
              "      <td>3</td>\n",
              "    </tr>\n",
              "    <tr>\n",
              "      <th>1055</th>\n",
              "      <td>6.7</td>\n",
              "      <td>38</td>\n",
              "      <td>1</td>\n",
              "      <td>0</td>\n",
              "      <td>1</td>\n",
              "      <td>0</td>\n",
              "      <td>255</td>\n",
              "      <td>1</td>\n",
              "    </tr>\n",
              "    <tr>\n",
              "      <th>1056</th>\n",
              "      <td>3.0</td>\n",
              "      <td>40</td>\n",
              "      <td>1</td>\n",
              "      <td>1</td>\n",
              "      <td>1</td>\n",
              "      <td>1</td>\n",
              "      <td>255</td>\n",
              "      <td>2</td>\n",
              "    </tr>\n",
              "    <tr>\n",
              "      <th>1057</th>\n",
              "      <td>6.8</td>\n",
              "      <td>43</td>\n",
              "      <td>1</td>\n",
              "      <td>0</td>\n",
              "      <td>1</td>\n",
              "      <td>0</td>\n",
              "      <td>250</td>\n",
              "      <td>1</td>\n",
              "    </tr>\n",
              "    <tr>\n",
              "      <th>1058</th>\n",
              "      <td>8.6</td>\n",
              "      <td>55</td>\n",
              "      <td>0</td>\n",
              "      <td>1</td>\n",
              "      <td>1</td>\n",
              "      <td>1</td>\n",
              "      <td>255</td>\n",
              "      <td>2</td>\n",
              "    </tr>\n",
              "  </tbody>\n",
              "</table>\n",
              "<p>1059 rows × 8 columns</p>\n",
              "</div>\n",
              "      <button class=\"colab-df-convert\" onclick=\"convertToInteractive('df-975595ce-3cbc-42a7-bbea-bce7e6d06198')\"\n",
              "              title=\"Convert this dataframe to an interactive table.\"\n",
              "              style=\"display:none;\">\n",
              "        \n",
              "  <svg xmlns=\"http://www.w3.org/2000/svg\" height=\"24px\"viewBox=\"0 0 24 24\"\n",
              "       width=\"24px\">\n",
              "    <path d=\"M0 0h24v24H0V0z\" fill=\"none\"/>\n",
              "    <path d=\"M18.56 5.44l.94 2.06.94-2.06 2.06-.94-2.06-.94-.94-2.06-.94 2.06-2.06.94zm-11 1L8.5 8.5l.94-2.06 2.06-.94-2.06-.94L8.5 2.5l-.94 2.06-2.06.94zm10 10l.94 2.06.94-2.06 2.06-.94-2.06-.94-.94-2.06-.94 2.06-2.06.94z\"/><path d=\"M17.41 7.96l-1.37-1.37c-.4-.4-.92-.59-1.43-.59-.52 0-1.04.2-1.43.59L10.3 9.45l-7.72 7.72c-.78.78-.78 2.05 0 2.83L4 21.41c.39.39.9.59 1.41.59.51 0 1.02-.2 1.41-.59l7.78-7.78 2.81-2.81c.8-.78.8-2.07 0-2.86zM5.41 20L4 18.59l7.72-7.72 1.47 1.35L5.41 20z\"/>\n",
              "  </svg>\n",
              "      </button>\n",
              "      \n",
              "  <style>\n",
              "    .colab-df-container {\n",
              "      display:flex;\n",
              "      flex-wrap:wrap;\n",
              "      gap: 12px;\n",
              "    }\n",
              "\n",
              "    .colab-df-convert {\n",
              "      background-color: #E8F0FE;\n",
              "      border: none;\n",
              "      border-radius: 50%;\n",
              "      cursor: pointer;\n",
              "      display: none;\n",
              "      fill: #1967D2;\n",
              "      height: 32px;\n",
              "      padding: 0 0 0 0;\n",
              "      width: 32px;\n",
              "    }\n",
              "\n",
              "    .colab-df-convert:hover {\n",
              "      background-color: #E2EBFA;\n",
              "      box-shadow: 0px 1px 2px rgba(60, 64, 67, 0.3), 0px 1px 3px 1px rgba(60, 64, 67, 0.15);\n",
              "      fill: #174EA6;\n",
              "    }\n",
              "\n",
              "    [theme=dark] .colab-df-convert {\n",
              "      background-color: #3B4455;\n",
              "      fill: #D2E3FC;\n",
              "    }\n",
              "\n",
              "    [theme=dark] .colab-df-convert:hover {\n",
              "      background-color: #434B5C;\n",
              "      box-shadow: 0px 1px 3px 1px rgba(0, 0, 0, 0.15);\n",
              "      filter: drop-shadow(0px 1px 2px rgba(0, 0, 0, 0.3));\n",
              "      fill: #FFFFFF;\n",
              "    }\n",
              "  </style>\n",
              "\n",
              "      <script>\n",
              "        const buttonEl =\n",
              "          document.querySelector('#df-975595ce-3cbc-42a7-bbea-bce7e6d06198 button.colab-df-convert');\n",
              "        buttonEl.style.display =\n",
              "          google.colab.kernel.accessAllowed ? 'block' : 'none';\n",
              "\n",
              "        async function convertToInteractive(key) {\n",
              "          const element = document.querySelector('#df-975595ce-3cbc-42a7-bbea-bce7e6d06198');\n",
              "          const dataTable =\n",
              "            await google.colab.kernel.invokeFunction('convertToInteractive',\n",
              "                                                     [key], {});\n",
              "          if (!dataTable) return;\n",
              "\n",
              "          const docLinkHtml = 'Like what you see? Visit the ' +\n",
              "            '<a target=\"_blank\" href=https://colab.research.google.com/notebooks/data_table.ipynb>data table notebook</a>'\n",
              "            + ' to learn more about interactive tables.';\n",
              "          element.innerHTML = '';\n",
              "          dataTable['output_type'] = 'display_data';\n",
              "          await google.colab.output.renderOutput(dataTable, element);\n",
              "          const docLink = document.createElement('div');\n",
              "          docLink.innerHTML = docLinkHtml;\n",
              "          element.appendChild(docLink);\n",
              "        }\n",
              "      </script>\n",
              "    </div>\n",
              "  </div>\n",
              "  "
            ]
          },
          "metadata": {},
          "execution_count": 2
        }
      ]
    },
    {
      "cell_type": "code",
      "source": [
        "print('Count:', dataframe.count())"
      ],
      "metadata": {
        "colab": {
          "base_uri": "https://localhost:8080/"
        },
        "id": "5iLSY4haykMq",
        "outputId": "c0cd9e2f-fbb7-4a66-b9e2-c7bf8a284ead"
      },
      "execution_count": 3,
      "outputs": [
        {
          "output_type": "stream",
          "name": "stdout",
          "text": [
            "Count: pH            1059\n",
            "Temprature    1059\n",
            "Taste         1059\n",
            "Odor          1059\n",
            "Fat           1059\n",
            "Turbidity     1059\n",
            "Colour        1059\n",
            "Grade         1059\n",
            "dtype: int64\n"
          ]
        }
      ]
    },
    {
      "cell_type": "code",
      "source": [
        "#remove observations that have NAN value\n",
        "data1=dataframe.dropna()\n",
        "print('Count:', data1.count())"
      ],
      "metadata": {
        "colab": {
          "base_uri": "https://localhost:8080/"
        },
        "id": "8qMWCbbDypjW",
        "outputId": "e50fffee-6d8d-4c95-8efa-a1b35051fd7e"
      },
      "execution_count": 4,
      "outputs": [
        {
          "output_type": "stream",
          "name": "stdout",
          "text": [
            "Count: pH            1059\n",
            "Temprature    1059\n",
            "Taste         1059\n",
            "Odor          1059\n",
            "Fat           1059\n",
            "Turbidity     1059\n",
            "Colour        1059\n",
            "Grade         1059\n",
            "dtype: int64\n"
          ]
        }
      ]
    },
    {
      "cell_type": "code",
      "source": [
        "import seaborn as sns\n",
        "# Create a pairplot of all features vs target\n",
        "sns.pairplot(data1, y_vars=[\"Grade\"], x_vars=data1.columns[:-1])"
      ],
      "metadata": {
        "colab": {
          "base_uri": "https://localhost:8080/",
          "height": 223
        },
        "id": "LIJZXXIUysmx",
        "outputId": "b6ea75c0-c16e-4548-b999-5c777bd2cbbb"
      },
      "execution_count": 5,
      "outputs": [
        {
          "output_type": "execute_result",
          "data": {
            "text/plain": [
              "<seaborn.axisgrid.PairGrid at 0x7faf6b728910>"
            ]
          },
          "metadata": {},
          "execution_count": 5
        },
        {
          "output_type": "display_data",
          "data": {
            "text/plain": [
              "<Figure size 1750x250 with 7 Axes>"
            ],
            "image/png": "[encoded data removed]"
          },
          "metadata": {}
        }
      ]
    },
    {
      "cell_type": "code",
      "source": [
        "correlation=data1.corrwith(data1[\"Grade\"])"
      ],
      "metadata": {
        "id": "ZlpAHCPkywbp"
      },
      "execution_count": 6,
      "outputs": []
    },
    {
      "cell_type": "code",
      "source": [
        "print(correlation)"
      ],
      "metadata": {
        "colab": {
          "base_uri": "https://localhost:8080/"
        },
        "id": "ap9Kx_PXy__Q",
        "outputId": "f61859d6-2ab6-4c8f-94bd-7c94d4fde483"
      },
      "execution_count": 7,
      "outputs": [
        {
          "output_type": "stream",
          "name": "stdout",
          "text": [
            "pH           -0.012518\n",
            "Temprature   -0.094232\n",
            "Taste        -0.197629\n",
            "Odor         -0.454609\n",
            "Fat          -0.501070\n",
            "Turbidity    -0.428017\n",
            "Colour       -0.212994\n",
            "Grade         1.000000\n",
            "dtype: float64\n"
          ]
        }
      ]
    },
    {
      "cell_type": "code",
      "source": [
        "# seperate into features and target\n",
        "features=data1.iloc[:,:-1]\n",
        "print (\"feature size: \",features.shape)\n",
        "print (features)\n",
        "target= data1.iloc[:,-1]\n",
        "print (\"target size: \",target.shape)\n",
        "print (target)\n"
      ],
      "metadata": {
        "colab": {
          "base_uri": "https://localhost:8080/"
        },
        "id": "OqpaJj1SzJhf",
        "outputId": "9c7e21af-fdee-4477-f96a-1c12e324f243"
      },
      "execution_count": 8,
      "outputs": [
        {
          "output_type": "stream",
          "name": "stdout",
          "text": [
            "feature size:  (1059, 7)\n",
            "       pH  Temprature  Taste  Odor  Fat   Turbidity  Colour\n",
            "0     6.6          35      1     0     1          0     254\n",
            "1     6.6          36      0     1     0          1     253\n",
            "2     8.5          70      1     1     1          1     246\n",
            "3     9.5          34      1     1     0          1     255\n",
            "4     6.6          37      0     0     0          0     255\n",
            "...   ...         ...    ...   ...   ...        ...     ...\n",
            "1054  6.7          45      1     1     0          0     247\n",
            "1055  6.7          38      1     0     1          0     255\n",
            "1056  3.0          40      1     1     1          1     255\n",
            "1057  6.8          43      1     0     1          0     250\n",
            "1058  8.6          55      0     1     1          1     255\n",
            "\n",
            "[1059 rows x 7 columns]\n",
            "target size:  (1059,)\n",
            "0       1\n",
            "1       1\n",
            "2       2\n",
            "3       2\n",
            "4       3\n",
            "       ..\n",
            "1054    3\n",
            "1055    1\n",
            "1056    2\n",
            "1057    1\n",
            "1058    2\n",
            "Name: Grade, Length: 1059, dtype: int64\n"
          ]
        }
      ]
    },
    {
      "cell_type": "code",
      "source": [
        "#number of each class: find out if they are imbalance classes or not\n",
        "print('Number of type:', dataframe.groupby('Grade')['Grade'].count())\n"
      ],
      "metadata": {
        "colab": {
          "base_uri": "https://localhost:8080/"
        },
        "id": "gqJLNBc8zT_W",
        "outputId": "0fd34d71-477c-45c0-fe03-5aa09ca8dbf9"
      },
      "execution_count": 9,
      "outputs": [
        {
          "output_type": "stream",
          "name": "stdout",
          "text": [
            "Number of type: Grade\n",
            "1    256\n",
            "2    429\n",
            "3    374\n",
            "Name: Grade, dtype: int64\n"
          ]
        }
      ]
    },
    {
      "cell_type": "code",
      "source": [
        "from sklearn.preprocessing import StandardScaler\n",
        "#standardize\n",
        "std_scl=StandardScaler()\n",
        "std_feature=std_scl.fit_transform(features)\n"
      ],
      "metadata": {
        "id": "eTBaSAu2z9SQ"
      },
      "execution_count": 10,
      "outputs": []
    },
    {
      "cell_type": "code",
      "source": [
        "#USING RANDOMFOREST ALGORITHSM TO TRAIN MODEL\n",
        "\n",
        "#include library\n",
        "from sklearn.preprocessing import StandardScaler\n",
        "import numpy as np\n",
        "import matplotlib.pyplot as plt\n",
        "import seaborn as sns\n",
        "from sklearn.metrics import confusion_matrix\n"
      ],
      "metadata": {
        "id": "186uYP700LtD"
      },
      "execution_count": 11,
      "outputs": []
    },
    {
      "cell_type": "code",
      "source": [
        "#Loading data File\n",
        "import pandas as pd\n",
        "url = 'milknew.csv'\n",
        "dataframe = pd.read_csv(url)\n",
        "\n",
        "# replace type from string to number\n",
        "dataframe['Grade']=dataframe['Grade'].replace([\"high\", \"low\",\"medium\"],[1,2,3])\n",
        "\n",
        "#remove observations that have NAN value\n",
        "data1=dataframe.dropna()\n",
        "\n",
        "# seperate into features and target\n",
        "features=data1.iloc[:,:-1]\n",
        "target= data1.iloc[:,-1]\n",
        "\n",
        "#standardize\n",
        "std_scl=StandardScaler()\n",
        "std_feature=std_scl.fit_transform(features)\n"
      ],
      "metadata": {
        "id": "e4u0oFzg0p4R"
      },
      "execution_count": 12,
      "outputs": []
    },
    {
      "cell_type": "code",
      "source": [
        "# split data\n",
        "from sklearn.model_selection import train_test_split\n",
        "x_train, x_test, y_train, y_test = train_test_split(std_feature,target,test_size=0.2,random_state=0)\n"
      ],
      "metadata": {
        "id": "cpgS97dn1PHz"
      },
      "execution_count": 13,
      "outputs": []
    },
    {
      "cell_type": "code",
      "source": [
        "#Using randomforest algorithsm to train classification model\n",
        "from sklearn.ensemble import RandomForestClassifier\n",
        "randomforest=RandomForestClassifier(random_state=0,class_weight=\"balanced\")\n",
        "randomforest_model=randomforest.fit(x_train,y_train)\n"
      ],
      "metadata": {
        "id": "jmBv00ve1UOL"
      },
      "execution_count": 14,
      "outputs": []
    },
    {
      "cell_type": "code",
      "source": [
        "#predict and find accuracy\n",
        "print(\"Accuracy:\",randomforest_model.score(x_test,y_test))\n"
      ],
      "metadata": {
        "colab": {
          "base_uri": "https://localhost:8080/"
        },
        "id": "jnZrR8gw1Zef",
        "outputId": "d756bc38-f117-48d5-9625-9a0fa901d883"
      },
      "execution_count": 15,
      "outputs": [
        {
          "output_type": "stream",
          "name": "stdout",
          "text": [
            "Accuracy: 0.9905660377358491\n"
          ]
        }
      ]
    },
    {
      "cell_type": "code",
      "source": [
        "\n",
        "y_pred=randomforest_model.predict(x_test)\n",
        "\n",
        "# get list of target of test data\n",
        "if len(np.unique(y_test))>=len(np.unique(y_pred)):\n",
        "    class_names=np.unique(y_test)\n",
        "else: class_names=np.unique(y_pred)\n",
        "\n",
        "# Create confusion matrix\n",
        "\n",
        "matrix = confusion_matrix(y_test, y_pred)\n",
        "# Create pandas dataframe\n",
        "dataframe = pd.DataFrame(matrix, index=class_names, columns=class_names)\n",
        "# Create heatmap\n",
        "\n",
        "sns.heatmap(dataframe, annot=True, cbar=None, cmap=\"Greens\")\n",
        "plt.title(\"Confusion Matrix\"), plt.tight_layout()\n",
        "plt.ylabel(\"True Class\"), plt.xlabel(\"Predicted Class\")\n",
        "plt.show()\n"
      ],
      "metadata": {
        "colab": {
          "base_uri": "https://localhost:8080/",
          "height": 506
        },
        "id": "VKf_Zsp-1gR3",
        "outputId": "d2dde888-d968-4dc6-c67b-61a379e214bd"
      },
      "execution_count": 19,
      "outputs": [
        {
          "output_type": "display_data",
          "data": {
            "text/plain": [
              "<Figure size 640x480 with 1 Axes>"
            ],
            "image/png": "[encoded data removed]"
          },
          "metadata": {}
        }
      ]
    },
    {
      "cell_type": "code",
      "source": [
        "from sklearn.pipeline import Pipeline"
      ],
      "metadata": {
        "id": "DlODTMOE1m4O"
      },
      "execution_count": 20,
      "outputs": []
    },
    {
      "cell_type": "code",
      "source": [
        "from sklearn.model_selection import GridSearchCV"
      ],
      "metadata": {
        "id": "aAZ4vvb71rFf"
      },
      "execution_count": 21,
      "outputs": []
    },
    {
      "cell_type": "code",
      "source": [
        "# Create a pipeline\n",
        "pipe = Pipeline([(\"classifier\", RandomForestClassifier(random_state=0,class_weight=\"balanced\"))])\n"
      ],
      "metadata": {
        "id": "l_tLPdQf1vyA"
      },
      "execution_count": 22,
      "outputs": []
    },
    {
      "cell_type": "code",
      "source": [
        "# Create dictionary with candidate learning algorithms and their hyperparameters\n",
        "search_space = {\"classifier__n_estimators\": [150,250,350,450],\n",
        "                \"classifier__max_features\": [10,11,12,13,14,15]}\n"
      ],
      "metadata": {
        "id": "p34Gte421w__"
      },
      "execution_count": 24,
      "outputs": []
    },
    {
      "cell_type": "code",
      "source": [
        "# Create grid search\n",
        "gridsearch = GridSearchCV(pipe, search_space, cv=5,n_jobs=-1, verbose=1)\n",
        "# Fit grid search\n",
        "best_model = gridsearch.fit(x_train, y_train)\n"
      ],
      "metadata": {
        "colab": {
          "base_uri": "https://localhost:8080/"
        },
        "id": "e3RDf2Qc15sI",
        "outputId": "f7114af0-2cd1-4918-c898-a02d1e71f05f"
      },
      "execution_count": 25,
      "outputs": [
        {
          "output_type": "stream",
          "name": "stdout",
          "text": [
            "Fitting 5 folds for each of 24 candidates, totalling 120 fits\n"
          ]
        }
      ]
    },
    {
      "cell_type": "code",
      "source": [
        "#predict and find accuracy\n",
        "print(\"Accuracy:\",best_model.best_estimator_.score(x_test,y_test))\n"
      ],
      "metadata": {
        "colab": {
          "base_uri": "https://localhost:8080/"
        },
        "id": "puVvpK7P2IM_",
        "outputId": "5f9a44bc-ef1b-407f-a075-77cfd181349f"
      },
      "execution_count": 26,
      "outputs": [
        {
          "output_type": "stream",
          "name": "stdout",
          "text": [
            "Accuracy: 0.9905660377358491\n"
          ]
        }
      ]
    },
    {
      "cell_type": "code",
      "source": [
        "# predict test data\n",
        "y_pred=best_model.best_estimator_.predict(x_test)\n",
        "\n",
        "# get list of target of test data\n",
        "if len(np.unique(y_test))>=len(np.unique(y_pred)):\n",
        "    class_names=np.unique(y_test)\n",
        "else: class_names=np.unique(y_pred)\n",
        "\n",
        "# Create confusion matrix\n",
        "matrix = confusion_matrix(y_test, y_pred)\n",
        "# Create pandas dataframe\n",
        "dataframe = pd.DataFrame(matrix, index=class_names, columns=class_names)\n",
        "\n",
        "# Create heatmap\n",
        "sns.heatmap(dataframe, annot=True, cbar=None, cmap=\"Greens\")\n",
        "plt.title(\"Confusion Matrix\"), plt.tight_layout()\n",
        "plt.ylabel(\"True Class\"), plt.xlabel(\"Predicted Class\")\n",
        "plt.show()\n"
      ],
      "metadata": {
        "colab": {
          "base_uri": "https://localhost:8080/",
          "height": 506
        },
        "id": "kawIvGg02O-P",
        "outputId": "4f7db01f-712a-4801-b141-26d7befafeb2"
      },
      "execution_count": 27,
      "outputs": [
        {
          "output_type": "display_data",
          "data": {
            "text/plain": [
              "<Figure size 640x480 with 1 Axes>"
            ],
            "image/png": "[encoded data removed]"
          },
          "metadata": {}
        }
      ]
    },
    {
      "cell_type": "code",
      "source": [
        "#USING LOGISTIC REGRESSION ALGORITHSM TO TRAIN MODEL\n",
        "\n",
        "# Load libraries\n",
        "from sklearn.linear_model import LogisticRegression\n",
        "from sklearn.preprocessing import StandardScaler\n",
        "import numpy as np\n",
        "import seaborn as sns\n",
        "from sklearn.metrics import confusion_matrix\n",
        "import matplotlib.pyplot as plt\n"
      ],
      "metadata": {
        "id": "QzFbeill2aVC"
      },
      "execution_count": 29,
      "outputs": []
    },
    {
      "cell_type": "code",
      "source": [
        "#Loading data File\n",
        "import pandas as pd\n",
        "url = 'milknew.csv'\n",
        "dataframe = pd.read_csv(url)\n",
        "\n",
        "# replace type from string to number\n",
        "dataframe['Grade']=dataframe['Grade'].replace([\"high\", \"low\",\"medium\"],[1,2,3])\n",
        "\n",
        "#remove observations that have NAN value\n",
        "data1=dataframe.dropna()\n",
        "\n",
        "\n",
        "\n",
        "#standardize\n",
        "std_scl=StandardScaler()\n",
        "std_feature=std_scl.fit_transform(features)\n",
        "\n",
        "from sklearn.decomposition import PCA\n",
        "#PCA\n",
        "# Create a PCA that will retain 99% of variance\n",
        "pca = PCA(n_components=0.99, whiten=True)\n",
        "# Conduct PCA\n",
        "std_feature = pca.fit_transform(std_feature)\n"
      ],
      "metadata": {
        "id": "ejr2GESn2fnY"
      },
      "execution_count": 30,
      "outputs": []
    },
    {
      "cell_type": "code",
      "source": [
        "logistic_regression = LogisticRegression(random_state=0,class_weight=\"balanced\", multi_class=\"ovr\")\n",
        "\n",
        "# Train model\n",
        "logistic_model = logistic_regression.fit(x_train, y_train)\n"
      ],
      "metadata": {
        "id": "TxdzonBN3jz3"
      },
      "execution_count": 31,
      "outputs": []
    },
    {
      "cell_type": "code",
      "source": [
        "#predict and find accuracy\n",
        "print(\"Accuracy:\",logistic_model.score(x_test,y_test))\n"
      ],
      "metadata": {
        "colab": {
          "base_uri": "https://localhost:8080/"
        },
        "id": "0zGej6jp3pTH",
        "outputId": "175b0176-c277-4752-8cde-2cc340b3896c"
      },
      "execution_count": 32,
      "outputs": [
        {
          "output_type": "stream",
          "name": "stdout",
          "text": [
            "Accuracy: 0.8679245283018868\n"
          ]
        }
      ]
    },
    {
      "cell_type": "code",
      "source": [
        "# predict test data\n",
        "y_pred=logistic_model.predict(x_test)\n",
        "\n",
        "# get list of target of test data\n",
        "if len(np.unique(y_test))>=len(np.unique(y_pred)):\n",
        "    class_names=np.unique(y_test)\n",
        "else: class_names=np.unique(y_pred)\n",
        "\n",
        "# Create confusion matrix\n",
        "matrix = confusion_matrix(y_test, y_pred)\n",
        "# Create pandas dataframe\n",
        "dataframe = pd.DataFrame(matrix, index=class_names, columns=class_names)\n",
        "# Create heatmap\n",
        "\n",
        "sns.heatmap(dataframe, annot=True, cbar=None, cmap=\"Greens\")\n",
        "plt.title(\"Confusion Matrix\"), plt.tight_layout()\n",
        "plt.ylabel(\"True Class\"), plt.xlabel(\"Predicted Class\")\n",
        "plt.show()\n"
      ],
      "metadata": {
        "colab": {
          "base_uri": "https://localhost:8080/",
          "height": 506
        },
        "id": "hhMfeb7L3tVR",
        "outputId": "5394b7fa-757a-455b-8964-0ad6834c3d5c"
      },
      "execution_count": 33,
      "outputs": [
        {
          "output_type": "display_data",
          "data": {
            "text/plain": [
              "<Figure size 640x480 with 1 Axes>"
            ],
            "image/png": "[encoded data removed]"
          },
          "metadata": {}
        }
      ]
    },
    {
      "cell_type": "code",
      "source": [
        "#USING LOGISTIC REGRESSION ALGORITHSM WITH GRIDSEARCH TO TRAIN MODEL\n",
        "from sklearn.pipeline import Pipeline\n",
        "from sklearn.model_selection import GridSearchCV\n",
        "from sklearn.linear_model import LogisticRegression\n",
        "from sklearn.preprocessing import StandardScaler\n",
        "import numpy as np\n",
        "import seaborn as sns\n",
        "from sklearn.metrics import confusion_matrix\n",
        "import matplotlib.pyplot as plt\n"
      ],
      "metadata": {
        "id": "VyY-Q-ty8LNp"
      },
      "execution_count": 34,
      "outputs": []
    },
    {
      "cell_type": "code",
      "source": [
        "pip install scikit-learn"
      ],
      "metadata": {
        "colab": {
          "base_uri": "https://localhost:8080/"
        },
        "id": "u_s0GpeO9utg",
        "outputId": "510406f2-7d8e-4d6e-d4d2-1a58250616cf"
      },
      "execution_count": 35,
      "outputs": [
        {
          "output_type": "stream",
          "name": "stdout",
          "text": [
            "Looking in indexes: https://pypi.org/simple, https://us-python.pkg.dev/colab-wheels/public/simple/\n",
            "Requirement already satisfied: scikit-learn in /usr/local/lib/python3.10/dist-packages (1.2.2)\n",
            "Requirement already satisfied: numpy>=1.17.3 in /usr/local/lib/python3.10/dist-packages (from scikit-learn) (1.22.4)\n",
            "Requirement already satisfied: scipy>=1.3.2 in /usr/local/lib/python3.10/dist-packages (from scikit-learn) (1.10.1)\n",
            "Requirement already satisfied: joblib>=1.1.1 in /usr/local/lib/python3.10/dist-packages (from scikit-learn) (1.2.0)\n",
            "Requirement already satisfied: threadpoolctl>=2.0.0 in /usr/local/lib/python3.10/dist-packages (from scikit-learn) (3.1.0)\n"
          ]
        }
      ]
    },
    {
      "cell_type": "code",
      "source": [
        "#Loading data File\n",
        "import pandas as pd\n",
        "url = 'milknew.csv'\n",
        "dataframe = pd.read_csv(url)\n",
        "\n",
        "# replace type from string to number\n",
        "dataframe['Grade']=dataframe['Grade'].replace([\"high\", \"low\",\"medium\"],[1,2,3])\n",
        "\n",
        "#remove observations that have NAN value\n",
        "data1=dataframe.dropna()\n",
        "\n",
        "from sklearn.decomposition import PCA\n",
        "#PCA\n",
        "# Create a PCA that will retain 99% of variance\n",
        "pca = PCA(n_components=0.99, whiten=True)\n",
        "# Conduct PCA\n",
        "std_feature = pca.fit_transform(std_feature)\n"
      ],
      "metadata": {
        "id": "2WqDEs4W8tKv"
      },
      "execution_count": 36,
      "outputs": []
    },
    {
      "cell_type": "code",
      "source": [
        "# Set random seed\n",
        "np.random.seed(0)\n",
        "# Create a pipeline\n",
        "pipe = Pipeline([(\"classifier\",LogisticRegression(random_state=0,class_weight=\"balanced\", multi_class=\"ovr\"))])\n",
        "\n",
        "#create range of candidate penalty hyperparameter value\n",
        "penalty=['l1','l2']\n",
        "\n",
        "#create range of candidate regularization hyperparameter value\n",
        "C=np.logspace(0,4,20)\n",
        "\n",
        "#create hyperparameter options\n",
        "hyperparameters=dict(classifier__C=C,classifier__penalty=penalty)\n"
      ],
      "metadata": {
        "id": "u5egn2peB7q3"
      },
      "execution_count": 37,
      "outputs": []
    },
    {
      "cell_type": "code",
      "source": [
        "# Create grid search\n",
        "gridsearch = GridSearchCV(pipe, hyperparameters, cv=5,n_jobs=-1, verbose=1)\n",
        "# Fit grid search\n",
        "best_model = gridsearch.fit(x_train, y_train)\n",
        "\n",
        "#predict and find accuracy\n",
        "print(\"Accuracy:\",best_model.best_estimator_.score(x_test,y_test))\n"
      ],
      "metadata": {
        "colab": {
          "base_uri": "https://localhost:8080/"
        },
        "id": "MsyNOBvyCBk5",
        "outputId": "52ae4a43-67e9-4774-c498-629adff4115a"
      },
      "execution_count": 38,
      "outputs": [
        {
          "output_type": "stream",
          "name": "stdout",
          "text": [
            "Fitting 5 folds for each of 40 candidates, totalling 200 fits\n",
            "Accuracy: 0.8679245283018868\n"
          ]
        },
        {
          "output_type": "stream",
          "name": "stderr",
          "text": [
            "/usr/local/lib/python3.10/dist-packages/sklearn/model_selection/_validation.py:378: FitFailedWarning: \n",
            "100 fits failed out of a total of 200.\n",
            "The score on these train-test partitions for these parameters will be set to nan.\n",
            "If these failures are not expected, you can try to debug them by setting error_score='raise'.\n",
            "\n",
            "Below are more details about the failures:\n",
            "--------------------------------------------------------------------------------\n",
            "100 fits failed with the following error:\n",
            "Traceback (most recent call last):\n",
            "  File \"/usr/local/lib/python3.10/dist-packages/sklearn/model_selection/_validation.py\", line 686, in _fit_and_score\n",
            "    estimator.fit(X_train, y_train, **fit_params)\n",
            "  File \"/usr/local/lib/python3.10/dist-packages/sklearn/pipeline.py\", line 405, in fit\n",
            "    self._final_estimator.fit(Xt, y, **fit_params_last_step)\n",
            "  File \"/usr/local/lib/python3.10/dist-packages/sklearn/linear_model/_logistic.py\", line 1162, in fit\n",
            "    solver = _check_solver(self.solver, self.penalty, self.dual)\n",
            "  File \"/usr/local/lib/python3.10/dist-packages/sklearn/linear_model/_logistic.py\", line 54, in _check_solver\n",
            "    raise ValueError(\n",
            "ValueError: Solver lbfgs supports only 'l2' or 'none' penalties, got l1 penalty.\n",
            "\n",
            "  warnings.warn(some_fits_failed_message, FitFailedWarning)\n",
            "/usr/local/lib/python3.10/dist-packages/sklearn/model_selection/_search.py:952: UserWarning: One or more of the test scores are non-finite: [       nan 0.85360251        nan 0.85241907        nan 0.85477898\n",
            "        nan 0.85477898        nan 0.85596241        nan 0.85477898\n",
            "        nan 0.85477898        nan 0.85477898        nan 0.85477898\n",
            "        nan 0.85477898        nan 0.85477898        nan 0.85477898\n",
            "        nan 0.85477898        nan 0.85477898        nan 0.85714584\n",
            "        nan 0.85714584        nan 0.85714584        nan 0.85714584\n",
            "        nan 0.85714584        nan 0.85714584]\n",
            "  warnings.warn(\n"
          ]
        }
      ]
    },
    {
      "cell_type": "code",
      "source": [
        "# predict test data\n",
        "y_pred=best_model.best_estimator_.predict(x_test)\n",
        "\n",
        "# get list of target of test data\n",
        "if len(np.unique(y_test))>=len(np.unique(y_pred)):\n",
        "    class_names=np.unique(y_test)\n",
        "\n",
        "\n",
        "# Create confusion matrix\n",
        "matrix = confusion_matrix(y_test, y_pred)\n",
        "# Create pandas dataframe\n",
        "dataframe = pd.DataFrame(matrix, index=class_names, columns=class_names)\n",
        "# Create heatmap\n",
        "sns.heatmap(dataframe, annot=True, cbar=None, cmap=\"Greens\")\n",
        "plt.title(\"Confusion Matrix\"), plt.tight_layout()\n",
        "plt.ylabel(\"True Class\"), plt.xlabel(\"Predicted Class\")\n",
        "plt.show()\n"
      ],
      "metadata": {
        "colab": {
          "base_uri": "https://localhost:8080/",
          "height": 506
        },
        "id": "r3hxH6QRCFk1",
        "outputId": "cbabcc52-2985-4ece-a10c-d31d2a7fa8a9"
      },
      "execution_count": 39,
      "outputs": [
        {
          "output_type": "display_data",
          "data": {
            "text/plain": [
              "<Figure size 640x480 with 1 Axes>"
            ],
            "image/png": "[encoded data removed]"
          },
          "metadata": {}
        }
      ]
    },
    {
      "cell_type": "code",
      "source": [
        "#USING SUPPORT VECTOR MACHINE: SUPPORT VECTOR CLASSIFIER ALGORITHSM TO TRAIN MODEL\n",
        "\n",
        "# Load libraries\n",
        "from sklearn.svm import SVC\n",
        "from sklearn.preprocessing import StandardScaler\n",
        "import numpy as np\n",
        "import seaborn as sns\n",
        "from sklearn.metrics import confusion_matrix\n",
        "import matplotlib.pyplot as plt\n"
      ],
      "metadata": {
        "id": "GGRhd6fjCozO"
      },
      "execution_count": 40,
      "outputs": []
    },
    {
      "cell_type": "code",
      "source": [
        "from sklearn.decomposition import PCA\n",
        "#PCA\n",
        "# Create a PCA that will retain 99% of variance\n",
        "pca = PCA(n_components=0.99, whiten=True)\n",
        "# Conduct PCA\n",
        "std_feature = pca.fit_transform(std_feature)\n"
      ],
      "metadata": {
        "id": "m-YEWWtvC3Fl"
      },
      "execution_count": 41,
      "outputs": []
    },
    {
      "cell_type": "code",
      "source": [
        "svc = SVC(kernel=\"rbf\", random_state=0, gamma=1, C=1, class_weight='balanced')\n",
        "\n",
        "# Train the classifier\n",
        "model = svc.fit(x_train, y_train)\n"
      ],
      "metadata": {
        "id": "Kx3F5sFmC78A"
      },
      "execution_count": 42,
      "outputs": []
    },
    {
      "cell_type": "code",
      "source": [
        "print(\"Accuracy:\",model.score(x_test,y_test))"
      ],
      "metadata": {
        "colab": {
          "base_uri": "https://localhost:8080/"
        },
        "id": "ERv1bH6KC9KI",
        "outputId": "71fb4800-1e48-455d-8e53-2bbeb8c638c9"
      },
      "execution_count": 43,
      "outputs": [
        {
          "output_type": "stream",
          "name": "stdout",
          "text": [
            "Accuracy: 0.9481132075471698\n"
          ]
        }
      ]
    },
    {
      "cell_type": "code",
      "source": [
        "# predict test data\n",
        "y_pred=model.predict(x_test)\n",
        "# get list of target of test data\n",
        "if len(np.unique(y_test))>=len(np.unique(y_pred)):\n",
        "    class_names=np.unique(y_test)\n",
        "else: class_names=np.unique(y_pred)\n",
        "\n",
        "# Create confusion matrix\n",
        "matrix = confusion_matrix(y_test, y_pred)\n",
        "\n",
        "# Create pandas dataframe\n",
        "dataframe = pd.DataFrame(matrix, index=class_names, columns=class_names)\n",
        "\n",
        "# Create heatmap\n",
        "sns.heatmap(dataframe, annot=True, cbar=None, cmap=\"Greens\")\n",
        "plt.title(\"Confusion Matrix\"), plt.tight_layout()\n",
        "plt.ylabel(\"True Class\"), plt.xlabel(\"Predicted Class\")\n",
        "plt.show()\n"
      ],
      "metadata": {
        "colab": {
          "base_uri": "https://localhost:8080/",
          "height": 506
        },
        "id": "62dbE7NPDGu8",
        "outputId": "eaa66a14-8448-4468-9e6b-603e7d9ce0f0"
      },
      "execution_count": 44,
      "outputs": [
        {
          "output_type": "display_data",
          "data": {
            "text/plain": [
              "<Figure size 640x480 with 1 Axes>"
            ],
            "image/png": "[encoded data removed]"
          },
          "metadata": {}
        }
      ]
    },
    {
      "cell_type": "code",
      "source": [
        "#USING GRIDSEARCH ON SUPPORT VECTOR MACHINE: SUPPORT VECTOR CLASSIFIER ALGORITHSM TO TRAIN MODEL\n",
        "# include library\n",
        "from sklearn.pipeline import Pipeline\n",
        "from sklearn.model_selection import GridSearchCV\n",
        "from sklearn.svm import SVC\n",
        "from sklearn.decomposition import PCA\n",
        "from sklearn.preprocessing import StandardScaler\n",
        "import numpy as np\n",
        "import seaborn as sns\n",
        "from sklearn.metrics import confusion_matrix\n",
        "import matplotlib.pyplot as plt\n"
      ],
      "metadata": {
        "id": "TqBrUHHHDQgr"
      },
      "execution_count": 45,
      "outputs": []
    },
    {
      "cell_type": "code",
      "source": [
        "#PCA\n",
        "# Create a PCA that will retain 99% of variance\n",
        "pca = PCA(n_components=0.99, whiten=True)\n",
        "# Conduct PCA\n",
        "std_feature = pca.fit_transform(std_feature)\n"
      ],
      "metadata": {
        "id": "i-RqAh20DSGE"
      },
      "execution_count": 46,
      "outputs": []
    },
    {
      "cell_type": "code",
      "source": [
        "# Set random seed\n",
        "np.random.seed(0)\n",
        "# Create a pipeline\n",
        "pipe = Pipeline([(\"classifier\",SVC(kernel=\"rbf\", random_state=0, gamma=1, class_weight='balanced'))])\n",
        "\n",
        "#create range of candidate regularization hyperparameter value\n",
        "C=np.logspace(0,3,50)\n",
        "#create hyperparameter options\n",
        "hyperparameters=dict(classifier__C=C)\n"
      ],
      "metadata": {
        "id": "iyTOl-SnDWun"
      },
      "execution_count": 47,
      "outputs": []
    },
    {
      "cell_type": "code",
      "source": [
        "# Create grid search\n",
        "gridsearch = GridSearchCV(pipe, hyperparameters, cv=5,n_jobs=-1, verbose=1)\n",
        "# Fit grid search\n",
        "best_model = gridsearch.fit(x_train, y_train)\n",
        "\n",
        "#predict and find accuracy\n",
        "print(\"Accuracy:\",best_model.best_estimator_.score(x_test,y_test))\n"
      ],
      "metadata": {
        "colab": {
          "base_uri": "https://localhost:8080/"
        },
        "id": "eNDX71nlDYIb",
        "outputId": "210fe533-cfdf-4601-9602-cf0bfab1c6f5"
      },
      "execution_count": 48,
      "outputs": [
        {
          "output_type": "stream",
          "name": "stdout",
          "text": [
            "Fitting 5 folds for each of 50 candidates, totalling 250 fits\n",
            "Accuracy: 0.9952830188679245\n"
          ]
        }
      ]
    },
    {
      "cell_type": "code",
      "source": [
        "# predict test data\n",
        "y_pred=best_model.best_estimator_.predict(x_test)\n",
        "\n",
        "# get list of target of test data\n",
        "if len(np.unique(y_test))>=len(np.unique(y_pred)):\n",
        "    class_names=np.unique(y_test)\n",
        "else: class_names=np.unique(y_pred)\n",
        "\n",
        "# Create confusion matrix\n",
        "matrix = confusion_matrix(y_test, y_pred)\n",
        "\n",
        "# Create pandas dataframe\n",
        "\n",
        "dataframe = pd.DataFrame(matrix, index=class_names, columns=class_names)\n",
        "# Create heatmap\n",
        "\n",
        "sns.heatmap(dataframe, annot=True, cbar=None, cmap=\"Greens\")\n",
        "plt.title(\"Confusion Matrix\"), plt.tight_layout()\n",
        "plt.ylabel(\"True Class\"), plt.xlabel(\"Predicted Class\")\n",
        "plt.show()\n"
      ],
      "metadata": {
        "colab": {
          "base_uri": "https://localhost:8080/",
          "height": 506
        },
        "id": "ATqgi_e_DcBb",
        "outputId": "6e006436-bdf7-4b59-c44c-f32e25c97e5c"
      },
      "execution_count": 49,
      "outputs": [
        {
          "output_type": "display_data",
          "data": {
            "text/plain": [
              "<Figure size 640x480 with 1 Axes>"
            ],
            "image/png": "[encoded data removed]"
          },
          "metadata": {}
        }
      ]
    }
  ]
}