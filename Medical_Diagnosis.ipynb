{
  "nbformat": 4,
  "nbformat_minor": 0,
  "metadata": {
    "colab": {
      "provenance": [],
      "authorship_tag": "ABX9TyN7fyYcwDY+jGp5wavIeyRq",
      "include_colab_link": true
    },
    "kernelspec": {
      "name": "python3",
      "display_name": "Python 3"
    },
    "language_info": {
      "name": "python"
    }
  },
  "cells": [
    {
      "cell_type": "markdown",
      "metadata": {
        "id": "view-in-github",
        "colab_type": "text"
      },
      "source": [
        "<a href=\"https://colab.research.google.com/github/votrannhatquang/AI-s-ng-th-7/blob/main/Medical_Diagnosis.ipynb\" target=\"_parent\"><img src=\"https://colab.research.google.com/assets/colab-badge.svg\" alt=\"Open In Colab\"/></a>"
      ]
    },
    {
      "cell_type": "code",
      "execution_count": 1,
      "metadata": {
        "colab": {
          "base_uri": "https://localhost:8080/"
        },
        "id": "VhzDOesJ60DA",
        "outputId": "3d4ae412-8d9d-49fe-c19d-98a37e88905c"
      },
      "outputs": [
        {
          "output_type": "stream",
          "name": "stdout",
          "text": [
            "Looking in indexes: https://pypi.org/simple, https://us-python.pkg.dev/colab-wheels/public/simple/\n",
            "Collecting scikit-fuzzy\n",
            "  Downloading scikit-fuzzy-0.4.2.tar.gz (993 kB)\n",
            "\u001b[2K     \u001b[90m━━━━━━━━━━━━━━━━━━━━━━━━━━━━━━━━━━━━━━\u001b[0m \u001b[32m994.0/994.0 KB\u001b[0m \u001b[31m13.0 MB/s\u001b[0m eta \u001b[36m0:00:00\u001b[0m\n",
            "\u001b[?25h  Preparing metadata (setup.py) ... \u001b[?25l\u001b[?25hdone\n",
            "Requirement already satisfied: numpy>=1.6.0 in /usr/local/lib/python3.9/dist-packages (from scikit-fuzzy) (1.22.4)\n",
            "Requirement already satisfied: scipy>=0.9.0 in /usr/local/lib/python3.9/dist-packages (from scikit-fuzzy) (1.10.1)\n",
            "Requirement already satisfied: networkx>=1.9.0 in /usr/local/lib/python3.9/dist-packages (from scikit-fuzzy) (3.0)\n",
            "Building wheels for collected packages: scikit-fuzzy\n",
            "  Building wheel for scikit-fuzzy (setup.py) ... \u001b[?25l\u001b[?25hdone\n",
            "  Created wheel for scikit-fuzzy: filename=scikit_fuzzy-0.4.2-py3-none-any.whl size=894088 sha256=f7f7a5f90f72718adb7f70918f4da98e111f06baa1f3e4f62e7294c7cd6fe974\n",
            "  Stored in directory: /root/.cache/pip/wheels/32/2c/a1/a90a7d7dd8448ec029f298a61f3490275e99b17aa348be675c\n",
            "Successfully built scikit-fuzzy\n",
            "Installing collected packages: scikit-fuzzy\n",
            "Successfully installed scikit-fuzzy-0.4.2\n"
          ]
        }
      ],
      "source": [
        "pip install scikit-fuzzy"
      ]
    },
    {
      "cell_type": "code",
      "source": [
        "from numpy.core.multiarray import dtype\n",
        "# Medical Diagnosis System Using Fuzzy Logic\n",
        "import numpy as np\n",
        "import skfuzzy as fuzz\n",
        "from skfuzzy import control as ctrl\n",
        "\n",
        "fever=ctrl.Antecedent(np.arange(0,1,0.01),'fever')\n",
        "headache=ctrl.Antecedent(np.arange(0,1,0.01),'headache')\n",
        "nausea=ctrl.Antecedent(np.arange(0,1,0.01),'nausea')\n",
        "vomiting=ctrl.Antecedent(np.arange(0,1,0.01),'vomiting')\n",
        "jaundice=ctrl.Antecedent(np.arange(0,1,0.01),'jaundice')\n",
        "enlarge_liver=ctrl.Antecedent(np.arange(0,1,0.01),'enlarge_liver')\n",
        "joint_pain=ctrl.Antecedent(np.arange(0,1,0.01),'joint_pain')\n",
        "body_weakness=ctrl.Antecedent(np.arange(0,1,0.01),'body_weakness')\n",
        "dizziness=ctrl.Antecedent(np.arange(0,1,0.01),'dizziness')\n",
        "lofappetite=ctrl.Antecedent(np.arange(0,1,0.01),'lost of appetite')\n",
        "mp=ctrl.Antecedent(np.arange(0,1,0.01),'mp')\n",
        "conclusion=ctrl.Consequent(np.arange(0,1,0.01),'conclusion')\n",
        "\n",
        "#drawing\n",
        "fever['mild']=fuzz.trapmf(fever.universe,[0.1,0.2,0.3,0.3])*0.5\n",
        "fever['moderate']=fuzz.trapmf(fever.universe,[0.3,0.45,0.6,0.6])*0.5+fuzz.trimf(fever.universe,[0.45,0.6,0.6])*0.25\n",
        "fever['severe']=fuzz.trapmf(fever.universe,[0.6,0.7,0.8,0.8])*0.5\n",
        "fever['very_severe']=fuzz.trapmf(fever.universe,[0.8,0.9,1,1])*0.5\n",
        "\n",
        "headache['mild']=fuzz.trapmf(headache.universe,[0.1,0.2,0.3,0.3])*0.5\n",
        "headache['moderate']=fuzz.trapmf(headache.universe,[0.3,0.45,0.6,0.6])*0.5+fuzz.trimf(headache.universe,[0.45,0.6,0.6])*0.25\n",
        "headache['severe']=fuzz.trapmf(headache.universe,[0.6,0.7,0.8,0.8])*0.5\n",
        "headache['very_severe']=fuzz.trapmf(headache.universe,[0.8,0.9,1,1])*0.5\n",
        "\n",
        "nausea['mild']=fuzz.trapmf(nausea.universe,[0.1,0.2,0.3,0.3])*0.5\n",
        "nausea['moderate']=fuzz.trapmf(nausea.universe,[0.3,0.45,0.6,0.6])*0.5+fuzz.trimf(nausea.universe,[0.45,0.6,0.6])*0.25\n",
        "nausea['severe']=fuzz.trapmf(nausea.universe,[0.6,0.7,0.8,0.8])*0.5\n",
        "nausea['very_severe']=fuzz.trapmf(nausea.universe,[0.8,0.9,1,1])*0.5\n",
        "\n",
        "vomiting['mild']=fuzz.trapmf(vomiting.universe,[0.1,0.2,0.3,0.3])*0.5\n",
        "vomiting['moderate']=fuzz.trapmf(vomiting.universe,[0.3,0.45,0.6,0.6])*0.5+fuzz.trimf(vomiting.universe,[0.45,0.6,0.6])*0.25\n",
        "vomiting['severe']=fuzz.trapmf(vomiting.universe,[0.6,0.7,0.8,0.8])*0.5\n",
        "vomiting['very_severe']=fuzz.trapmf(vomiting.universe,[0.8,0.9,1,1])*0.5\n",
        "\n",
        "jaundice['mild']=fuzz.trapmf(jaundice.universe,[0.1,0.2,0.3,0.3])*0.5\n",
        "jaundice['moderate']=fuzz.trapmf(jaundice.universe,[0.3,0.45,0.6,0.6])*0.5+ fuzz.trimf(jaundice.universe,[0.45,0.6,0.6])*0.25\n",
        "jaundice['severe']=fuzz.trapmf(jaundice.universe,[0.6,0.7,0.8,0.8])*0.5\n",
        "jaundice['very_severe']=fuzz.trapmf(jaundice.universe,[0.8,0.9,1,1])*0.5\n",
        "\n",
        "enlarge_liver['mild']=fuzz.trapmf(enlarge_liver.universe,[0.1,0.2,0.3,0.3])*0.5\n",
        "enlarge_liver['moderate']=fuzz.trapmf(enlarge_liver.universe,[0.3,0.45,0.6,0.6])*0.5+fuzz.trimf(enlarge_liver.universe,[0.45,0.6,0.6])*0.25\n",
        "enlarge_liver['severe']=fuzz.trapmf(enlarge_liver.universe,[0.6,0.7,0.8,0.8])*0.5\n",
        "enlarge_liver['very_severe']=fuzz.trapmf(enlarge_liver.universe,[0.8,0.9,1,1])*0.5\n",
        "\n",
        "joint_pain['mild']=fuzz.trapmf(joint_pain.universe,[0.1,0.2,0.3,0.3])*0.5\n",
        "joint_pain['moderate']=fuzz.trapmf(joint_pain.universe,[0.3,0.45,0.6,0.6])*0.5+fuzz.trimf(joint_pain.universe,[0.45,0.6,0.6])*0.25\n",
        "joint_pain['severe']=fuzz.trapmf(joint_pain.universe,[0.6,0.7,0.8,0.8])*0.5\n",
        "joint_pain['very_severe']=fuzz.trapmf(joint_pain.universe,[0.8,0.9,1,1])*0.5\n",
        "\n",
        "body_weakness['mild']=fuzz.trapmf(body_weakness.universe,[0.1,0.2,0.3,0.3])*0.5\n",
        "body_weakness['moderate']=fuzz.trapmf(body_weakness.universe,[0.3,0.45,0.6,0.6])*0.5+fuzz.trimf(body_weakness.universe,[0.45,0.6,0.6])*0.25\n",
        "body_weakness['severe']=fuzz.trapmf(body_weakness.universe,[0.6,0.7,0.8,0.8])*0.5\n",
        "body_weakness['very_severe']=fuzz.trapmf(body_weakness.universe,[0.8,0.9,1,1])*0.5\n",
        "\n",
        "dizziness['mild']=fuzz.trapmf(dizziness.universe,[0.1,0.2,0.3,0.3])*0.5\n",
        "dizziness['moderate']=fuzz.trapmf(dizziness.universe,[0.3,0.45,0.6,0.6])*0.5+fuzz.trimf(dizziness.universe,[0.45,0.6,0.6])*0.25\n",
        "dizziness['severe']=fuzz.trapmf(dizziness.universe,[0.6,0.7,0.8,0.8])*0.5\n",
        "dizziness['very_severe']=fuzz.trapmf(dizziness.universe,[0.8,0.9,1,1])*0.5\n",
        "\n",
        "lofappetite['mild']=fuzz.trapmf(lofappetite.universe,[0.1,0.2,0.3,0.3])*0.5\n",
        "lofappetite['moderate']=fuzz.trapmf(lofappetite.universe,[0.3,0.45,0.6,0.6])*0.5+fuzz.trimf(lofappetite.universe,[0.45,0.6,0.6])*0.25\n",
        "lofappetite['severe']=fuzz.trapmf(lofappetite.universe,[0.6,0.7,0.8,0.8])*0.5\n",
        "lofappetite['very_severe']=fuzz.trapmf(lofappetite.universe,[0.8,0.9,1,1])*0.5\n",
        "\n",
        "mp['mild']=fuzz.trapmf(mp.universe,[0.1,0.2,0.3,0.3])*0.5\n",
        "mp['moderate']=fuzz.trapmf(mp.universe,[0.3,0.45,0.6,0.6])*0.5+fuzz.trimf(mp.universe,[0.45,0.6,0.6])*0.25\n",
        "mp['severe']=fuzz.trapmf(mp.universe,[0.6,0.7,0.8,0.8])*0.5\n",
        "mp['very_severe']=fuzz.trapmf(mp.universe,[0.8,0.9,1,1])*0.5\n",
        "\n",
        "conclusion['mild']=fuzz.trapmf(conclusion.universe,[0.1,0.2,0.3,0.3])*0.5\n",
        "conclusion['moderate']=fuzz.trapmf(conclusion.universe,[0.3,0.45,0.6,0.6])*0.5+fuzz.trimf(conclusion.universe,[0.45,0.6,0.6])*0.25\n",
        "conclusion['severe']=fuzz.trapmf(conclusion.universe,[0.6,0.7,0.8,0.8])*0.5\n",
        "conclusion['very_severe']=fuzz.trapmf(conclusion.universe,[0.8,0.9,1,1])*0.5\n",
        "\n",
        "# rule\n",
        "rule_1=ctrl.Rule(fever['mild']&headache['mild']&nausea['mild']&vomiting['mild']&jaundice['mild']&enlarge_liver['mild']&joint_pain['mild']&body_weakness['mild']&dizziness['severe']&lofappetite['mild']&mp['mild'],conclusion['mild'])\n",
        "rule_2=ctrl.Rule(fever['moderate']&headache['mild']&nausea['mild']&vomiting['mild']&jaundice['mild']&enlarge_liver['mild']&joint_pain['moderate']&body_weakness['moderate']&dizziness['severe']&lofappetite['severe']&mp['moderate'],conclusion['moderate'])\n",
        "rule_3=ctrl.Rule(fever['severe']&headache['moderate']&nausea['mild']&vomiting['mild']&jaundice['mild']&enlarge_liver['mild']&joint_pain['mild']&body_weakness['severe']&dizziness['severe']&lofappetite['severe']&mp['moderate'],conclusion['severe'])\n",
        "rule_4=ctrl.Rule(fever['very_severe']&headache['mild']&nausea['mild']&vomiting['mild']&jaundice['mild']&enlarge_liver['mild']&joint_pain['severe']&body_weakness['severe']&dizziness['mild']&lofappetite['mild']&mp['severe'],conclusion['very_severe'])\n",
        "rule_5=ctrl.Rule(fever['moderate']&headache['mild']&nausea['mild']&vomiting['moderate']&jaundice['mild']&enlarge_liver['mild']&joint_pain['moderate']&body_weakness['moderate']&dizziness['moderate']&lofappetite['severe']&mp['moderate'],conclusion['moderate'])\n",
        "rule_6=ctrl.Rule(fever['mild']&headache['moderate']&nausea['moderate']&vomiting['mild']&jaundice['mild']&enlarge_liver['mild']&joint_pain['mild']&body_weakness['mild']&dizziness['moderate']&lofappetite['mild']&mp['mild'],conclusion['mild'])\n",
        "rule_7=ctrl.Rule(fever['mild']&headache['mild']&nausea['moderate']&vomiting['moderate']&jaundice['mild']&enlarge_liver['mild']&joint_pain['severe']&body_weakness['severe']&dizziness['moderate']&lofappetite['moderate']&mp['moderate'],conclusion['severe'])\n",
        "rule_8=ctrl.Rule(fever['moderate']&headache['moderate']&nausea['moderate']&vomiting['moderate']&jaundice['moderate']&enlarge_liver['moderate']&joint_pain['moderate']&body_weakness['moderate']&dizziness['moderate']&lofappetite['moderate']&mp['moderate'],conclusion['moderate'])\n",
        "rule_9=ctrl.Rule(fever['moderate']&headache['mild']&nausea['moderate']&vomiting['moderate']&jaundice['mild']&enlarge_liver['severe']&joint_pain['moderate']&body_weakness['moderate']&dizziness['severe']&lofappetite['moderate']&mp['moderate'],conclusion['moderate'])\n",
        "rule_10=ctrl.Rule(fever['mild']&headache['mild']&nausea['moderate']&vomiting['moderate']&jaundice['mild']&enlarge_liver['moderate']&joint_pain['mild']&body_weakness['mild']&dizziness['mild']&lofappetite['mild']&mp['mild'],conclusion['mild'])\n",
        "rule_11=ctrl.Rule(fever['severe']&headache['severe']&nausea['severe']&vomiting['severe']&jaundice['severe']&enlarge_liver['severe']&joint_pain['severe']&body_weakness['very_severe']&dizziness['severe']&lofappetite['severe']&mp['moderate'],conclusion['very_severe'])\n",
        "rule_12=ctrl.Rule(fever['moderate']&headache['severe']&nausea['moderate']&vomiting['severe']&jaundice['moderate']&enlarge_liver['severe']&joint_pain['moderate']&body_weakness['severe']&dizziness['moderate']&lofappetite['mild']&mp['moderate'],conclusion['severe'])\n",
        "rule_13=ctrl.Rule(fever['mild']&headache['moderate']&nausea['moderate']&vomiting['moderate']&jaundice['mild']&enlarge_liver['mild']&joint_pain['mild']&body_weakness['moderate']&dizziness['mild']&lofappetite['moderate']&mp['moderate'],conclusion['moderate'])\n",
        "rule_14=ctrl.Rule(fever['severe']&headache['severe']&nausea['moderate']&vomiting['severe']&jaundice['severe']&enlarge_liver['severe']&joint_pain['severe']&body_weakness['severe']&dizziness['moderate']&lofappetite['moderate']&mp['severe'],conclusion['severe'])\n",
        "rule_15=ctrl.Rule(fever['mild']&headache['mild']&nausea['mild']&vomiting['moderate']&jaundice['mild']&enlarge_liver['mild']&joint_pain['mild']&body_weakness['severe']&dizziness['mild']&lofappetite['severe']&mp['moderate'],conclusion['severe'])\n",
        "rule_16=ctrl.Rule(fever['very_severe']&headache['moderate']&nausea['mild']&vomiting['moderate']&jaundice['severe']&enlarge_liver['moderate']&joint_pain['mild']&body_weakness['very_severe']&dizziness['severe']&lofappetite['mild']&mp['moderate'],conclusion['very_severe'])\n",
        "rule_17=ctrl.Rule(fever['mild']&headache['very_severe']&nausea['moderate']&vomiting['moderate']&jaundice['mild']&enlarge_liver['moderate']&joint_pain['mild']&body_weakness['moderate']&dizziness['very_severe']&lofappetite['mild']&mp['moderate'],conclusion['very_severe'])\n",
        "rule_18=ctrl.Rule(fever['moderate']&headache['very_severe']&nausea['very_severe']&vomiting['mild']&jaundice['severe']&enlarge_liver['severe']&joint_pain['moderate']&body_weakness['severe']&dizziness['very_severe']&lofappetite['very_severe']&mp['severe'],conclusion['very_severe'])\n",
        "rule_19=ctrl.Rule(fever['moderate']&headache['moderate']&nausea['moderate']&vomiting['moderate']&jaundice['mild']&enlarge_liver['mild']&joint_pain['moderate']&body_weakness['moderate']&dizziness['moderate']&lofappetite['moderate']&mp['moderate'],conclusion['moderate'])\n",
        "rule_20=ctrl.Rule(fever['very_severe']&headache['severe']&nausea['severe']&vomiting['severe']&jaundice['severe']&enlarge_liver['severe']&joint_pain['severe']&body_weakness['very_severe']&dizziness['severe']&lofappetite['severe']&mp['moderate'],conclusion['very_severe'])\n",
        "\n",
        "diagnose_ctrl=ctrl.ControlSystem([rule_1,rule_2,rule_3,rule_4,rule_5,rule_6,rule_7,rule_8,rule_9,rule_10,rule_11,rule_12,rule_13,rule_14,rule_15,rule_16,rule_17,rule_18,rule_19,rule_20])\n",
        "diagnose=ctrl.ControlSystemSimulation(diagnose_ctrl)\n",
        "diagnose.input['fever']=0.5\n",
        "diagnose.input['headache']=0.5\n",
        "diagnose.input['nausea']=0.5\n",
        "diagnose.input['vomiting']=0.5\n",
        "diagnose.input['jaundice']=0.5\n",
        "diagnose.input['enlarge_liver']=0.5\n",
        "diagnose.input['joint_pain']=0.5\n",
        "diagnose.input['body_weakness']=0.6\n",
        "diagnose.input['dizziness']=0.5\n",
        "diagnose.input['lost of appetite']=0.5\n",
        "diagnose.input['mp']=0.5\n",
        "diagnose.compute()\n",
        "print(diagnose.output['conclusion'])\n",
        "conclusion.view(sim=diagnose)"
      ],
      "metadata": {
        "colab": {
          "base_uri": "https://localhost:8080/",
          "height": 298
        },
        "id": "f9rw3nVR67tJ",
        "outputId": "192f2c84-d68d-4244-d236-ee9c2251eba1"
      },
      "execution_count": 2,
      "outputs": [
        {
          "output_type": "stream",
          "name": "stdout",
          "text": [
            "0.491111653381053\n"
          ]
        },
        {
          "output_type": "display_data",
          "data": {
            "text/plain": [
              "<Figure size 432x288 with 1 Axes>"
            ],
            "image/png": "[encoded data removed]"
          },
          "metadata": {
            "needs_background": "light"
          }
        }
      ]
    }
  ]
}