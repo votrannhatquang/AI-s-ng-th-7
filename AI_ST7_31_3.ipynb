{
  "nbformat": 4,
  "nbformat_minor": 0,
  "metadata": {
    "colab": {
      "provenance": [],
      "authorship_tag": "ABX9TyO/YlQ8wgj2D21Rkd1hivTr",
      "include_colab_link": true
    },
    "kernelspec": {
      "name": "python3",
      "display_name": "Python 3"
    },
    "language_info": {
      "name": "python"
    }
  },
  "cells": [
    {
      "cell_type": "markdown",
      "metadata": {
        "id": "view-in-github",
        "colab_type": "text"
      },
      "source": [
        "<a href=\"https://colab.research.google.com/github/votrannhatquang/AI-s-ng-th-7/blob/main/AI_ST7_31_3.ipynb\" target=\"_parent\"><img src=\"https://colab.research.google.com/assets/colab-badge.svg\" alt=\"Open In Colab\"/></a>"
      ]
    },
    {
      "cell_type": "code",
      "execution_count": 115,
      "metadata": {
        "id": "XsLNjgzWun6T"
      },
      "outputs": [],
      "source": [
        "from keras.datasets import mnist\n",
        "(train_images, train_labels),(test_images,test_lables)=mnist.load_data()"
      ]
    },
    {
      "cell_type": "code",
      "source": [
        "train_images.shape"
      ],
      "metadata": {
        "colab": {
          "base_uri": "https://localhost:8080/"
        },
        "id": "GxMY0_xcvQGZ",
        "outputId": "0bde05e7-12c0-4cdd-bf57-f8a200b598f9"
      },
      "execution_count": 116,
      "outputs": [
        {
          "output_type": "execute_result",
          "data": {
            "text/plain": [
              "(60000, 28, 28)"
            ]
          },
          "metadata": {},
          "execution_count": 116
        }
      ]
    },
    {
      "cell_type": "code",
      "source": [
        "train_labels.shape"
      ],
      "metadata": {
        "colab": {
          "base_uri": "https://localhost:8080/"
        },
        "id": "VtR2MdY4vfuo",
        "outputId": "351dc5a4-ab03-4d71-becd-b8adc3aa5ef2"
      },
      "execution_count": 117,
      "outputs": [
        {
          "output_type": "execute_result",
          "data": {
            "text/plain": [
              "(60000,)"
            ]
          },
          "metadata": {},
          "execution_count": 117
        }
      ]
    },
    {
      "cell_type": "code",
      "source": [
        "import matplotlib.pyplot as plt \n",
        "digit= train_images[8]\n",
        "plt.imshow(digit,cmap=plt.cm.binary)\n",
        "plt.show()\n",
        "print('so:',train_labels[8])"
      ],
      "metadata": {
        "colab": {
          "base_uri": "https://localhost:8080/",
          "height": 447
        },
        "id": "H-1Db2OFvriY",
        "outputId": "054a60b7-792d-421a-b303-f18551d010e7"
      },
      "execution_count": 118,
      "outputs": [
        {
          "output_type": "display_data",
          "data": {
            "text/plain": [
              "<Figure size 640x480 with 1 Axes>"
            ],
            "image/png": "[encoded data removed]"
          },
          "metadata": {}
        },
        {
          "output_type": "stream",
          "name": "stdout",
          "text": [
            "so: 1\n"
          ]
        }
      ]
    },
    {
      "cell_type": "code",
      "source": [
        "for i in range (15):\n",
        "  plt.subplot(3,5,i+1)\n",
        "  plt.tight_layout()\n",
        "  plt.imshow(train_images[i],cmap='gray',interpolation='none')\n",
        "  plt.title('so:{}'.format(train_labels[i]))\n",
        "  plt.xticks([])\n",
        "  plt.yticks([])"
      ],
      "metadata": {
        "colab": {
          "base_uri": "https://localhost:8080/",
          "height": 480
        },
        "id": "2iIt0rkexiRo",
        "outputId": "9e669335-d50d-4441-a799-2bdc10a549aa"
      },
      "execution_count": 119,
      "outputs": [
        {
          "output_type": "stream",
          "name": "stderr",
          "text": [
            "<ipython-input-119-76feaa0fa977>:2: MatplotlibDeprecationWarning: Auto-removal of overlapping axes is deprecated since 3.6 and will be removed two minor releases later; explicitly call ax.remove() as needed.\n",
            "  plt.subplot(3,5,i+1)\n"
          ]
        },
        {
          "output_type": "display_data",
          "data": {
            "text/plain": [
              "<Figure size 640x480 with 14 Axes>"
            ],
            "image/png": "[encoded data removed]"
          },
          "metadata": {}
        }
      ]
    },
    {
      "cell_type": "code",
      "source": [
        "from keras.models import Sequential\n",
        "from keras.layers import Dense\n",
        "\n",
        "model = Sequential()\n",
        "model.add(Dense(512,activation='relu',input_shape=(28*28,)))\n",
        "\n",
        "model.add(Dense(10,activation='softmax'))\n",
        "model.summary()"
      ],
      "metadata": {
        "colab": {
          "base_uri": "https://localhost:8080/"
        },
        "id": "6Zl3NuhmzW-4",
        "outputId": "ee42f798-58d7-48f9-b2f6-42ffee169a72"
      },
      "execution_count": 120,
      "outputs": [
        {
          "output_type": "stream",
          "name": "stdout",
          "text": [
            "Model: \"sequential_6\"\n",
            "_________________________________________________________________\n",
            " Layer (type)                Output Shape              Param #   \n",
            "=================================================================\n",
            " dense_12 (Dense)            (None, 512)               401920    \n",
            "                                                                 \n",
            " dense_13 (Dense)            (None, 10)                5130      \n",
            "                                                                 \n",
            "=================================================================\n",
            "Total params: 407,050\n",
            "Trainable params: 407,050\n",
            "Non-trainable params: 0\n",
            "_________________________________________________________________\n"
          ]
        }
      ]
    },
    {
      "cell_type": "code",
      "source": [
        "X=test_images\n",
        "Y=test_lables"
      ],
      "metadata": {
        "id": "jaeKKjZT2AV_"
      },
      "execution_count": 121,
      "outputs": []
    },
    {
      "cell_type": "code",
      "source": [
        "train_images= train_images.reshape(60000,28*28)\n",
        "train_images= train_images.astype('float32')/255\n",
        "test_images=test_images.reshape(10000,28*28)\n",
        "test_images=test_images.astype('float32')/255"
      ],
      "metadata": {
        "id": "QQLGaviA2LnG"
      },
      "execution_count": 122,
      "outputs": []
    },
    {
      "cell_type": "code",
      "source": [
        "test_images.shape"
      ],
      "metadata": {
        "colab": {
          "base_uri": "https://localhost:8080/"
        },
        "id": "WlrDTex83qyN",
        "outputId": "eb85666f-c261-44da-d35b-e44197bfd68e"
      },
      "execution_count": 123,
      "outputs": [
        {
          "output_type": "execute_result",
          "data": {
            "text/plain": [
              "(10000, 784)"
            ]
          },
          "metadata": {},
          "execution_count": 123
        }
      ]
    },
    {
      "cell_type": "code",
      "source": [
        "from keras.utils import to_categorical\n",
        "train_labels = to_categorical(train_labels,10)\n",
        "test_lables=to_categorical(test_lables,10)"
      ],
      "metadata": {
        "id": "6IvKidds360O"
      },
      "execution_count": 124,
      "outputs": []
    },
    {
      "cell_type": "code",
      "source": [
        "test_lables.shape"
      ],
      "metadata": {
        "colab": {
          "base_uri": "https://localhost:8080/"
        },
        "id": "cfgaU5sf4fKe",
        "outputId": "89183163-9a98-491c-d972-3a73555678d9"
      },
      "execution_count": 125,
      "outputs": [
        {
          "output_type": "execute_result",
          "data": {
            "text/plain": [
              "(10000, 10)"
            ]
          },
          "metadata": {},
          "execution_count": 125
        }
      ]
    },
    {
      "cell_type": "code",
      "source": [
        "train_labels.shape"
      ],
      "metadata": {
        "colab": {
          "base_uri": "https://localhost:8080/"
        },
        "id": "Bih2zGjY4oRl",
        "outputId": "6439d6c5-723e-4d84-a692-561a62e668e0"
      },
      "execution_count": 126,
      "outputs": [
        {
          "output_type": "execute_result",
          "data": {
            "text/plain": [
              "(60000, 10)"
            ]
          },
          "metadata": {},
          "execution_count": 126
        }
      ]
    },
    {
      "cell_type": "code",
      "source": [
        "model.compile(optimizer='rmsprop',loss='categorical_crossentropy', metrics=['accuracy'])\n",
        "model.fit(train_images, train_labels, epochs = 10, batch_size = 128)\n",
        "test_loss, test_acc=model.evaluate(test_images, test_lables)\n",
        "print('Mất mát:',test_loss)\n",
        "print('Độ chính xác:',test_acc)"
      ],
      "metadata": {
        "colab": {
          "base_uri": "https://localhost:8080/"
        },
        "id": "-PM4BDI147jV",
        "outputId": "0bbbd472-7d0b-4605-c904-6a447dcf038a"
      },
      "execution_count": 127,
      "outputs": [
        {
          "output_type": "stream",
          "name": "stdout",
          "text": [
            "Epoch 1/10\n",
            "469/469 [==============================] - 6s 11ms/step - loss: 0.2622 - accuracy: 0.9243\n",
            "Epoch 2/10\n",
            "469/469 [==============================] - 4s 10ms/step - loss: 0.1076 - accuracy: 0.9685\n",
            "Epoch 3/10\n",
            "469/469 [==============================] - 6s 12ms/step - loss: 0.0704 - accuracy: 0.9788\n",
            "Epoch 4/10\n",
            "469/469 [==============================] - 4s 10ms/step - loss: 0.0510 - accuracy: 0.9845\n",
            "Epoch 5/10\n",
            "469/469 [==============================] - 5s 10ms/step - loss: 0.0387 - accuracy: 0.9884\n",
            "Epoch 6/10\n",
            "469/469 [==============================] - 8s 16ms/step - loss: 0.0286 - accuracy: 0.9914\n",
            "Epoch 7/10\n",
            "469/469 [==============================] - 4s 9ms/step - loss: 0.0220 - accuracy: 0.9940\n",
            "Epoch 8/10\n",
            "469/469 [==============================] - 6s 12ms/step - loss: 0.0171 - accuracy: 0.9953\n",
            "Epoch 9/10\n",
            "469/469 [==============================] - 5s 10ms/step - loss: 0.0123 - accuracy: 0.9968\n",
            "Epoch 10/10\n",
            "469/469 [==============================] - 5s 10ms/step - loss: 0.0090 - accuracy: 0.9979\n",
            "313/313 [==============================] - 1s 3ms/step - loss: 0.0656 - accuracy: 0.9823\n",
            "Mất mát: 0.06557656079530716\n",
            "Độ chính xác: 0.9822999835014343\n"
          ]
        }
      ]
    },
    {
      "cell_type": "code",
      "source": [
        "\n",
        "digit= X[100]\n",
        "plt.imshow(digit,cmap=plt.cm.binary)\n",
        "plt.show()\n",
        "print('so:',Y[100])"
      ],
      "metadata": {
        "colab": {
          "base_uri": "https://localhost:8080/",
          "height": 447
        },
        "id": "Oov9xTUq-NlF",
        "outputId": "76cbc831-af7e-401e-c1e3-9bb109f33cae"
      },
      "execution_count": 128,
      "outputs": [
        {
          "output_type": "display_data",
          "data": {
            "text/plain": [
              "<Figure size 640x480 with 1 Axes>"
            ],
            "image/png": "[encoded data removed]"
          },
          "metadata": {}
        },
        {
          "output_type": "stream",
          "name": "stdout",
          "text": [
            "so: 6\n"
          ]
        }
      ]
    },
    {
      "cell_type": "code",
      "source": [
        "x_pred = X[100].reshape(1,28*28)\n",
        "x_pred =x_pred.astype('float32')/255\n",
        "\n",
        "y_pred = model.predict(x_pred)\n",
        "print(y_pred)"
      ],
      "metadata": {
        "colab": {
          "base_uri": "https://localhost:8080/"
        },
        "id": "e6NJCpEPAHqM",
        "outputId": "12397cc7-389c-4515-e84f-67f66c539b9f"
      },
      "execution_count": 130,
      "outputs": [
        {
          "output_type": "stream",
          "name": "stdout",
          "text": [
            "1/1 [==============================] - 0s 88ms/step\n",
            "[[1.6506662e-07 2.8540392e-10 4.0477943e-08 1.5720279e-10 4.0716182e-09\n",
            "  2.3149088e-08 9.9999988e-01 9.4533126e-10 5.6354197e-09 2.1018570e-10]]\n"
          ]
        }
      ]
    },
    {
      "cell_type": "code",
      "source": [
        "import numpy as np\n",
        "\n",
        "np.argmax(model.predict(x_pred),axis=1)"
      ],
      "metadata": {
        "colab": {
          "base_uri": "https://localhost:8080/"
        },
        "id": "9kzDSyReArqt",
        "outputId": "88566c1e-da20-45c8-a8d3-402232ef5c49"
      },
      "execution_count": 131,
      "outputs": [
        {
          "output_type": "stream",
          "name": "stdout",
          "text": [
            "1/1 [==============================] - 0s 23ms/step\n"
          ]
        },
        {
          "output_type": "execute_result",
          "data": {
            "text/plain": [
              "array([6])"
            ]
          },
          "metadata": {},
          "execution_count": 131
        }
      ]
    }
  ]
}